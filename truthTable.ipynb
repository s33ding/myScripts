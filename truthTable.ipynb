{
  "nbformat": 4,
  "nbformat_minor": 0,
  "metadata": {
    "colab": {
      "name": "Copy of truth_table2.ipynb",
      "provenance": [],
      "collapsed_sections": []
    },
    "kernelspec": {
      "name": "python3",
      "display_name": "Python 3"
    },
    "language_info": {
      "name": "python"
    }
  },
  "cells": [
    {
      "cell_type": "code",
      "metadata": {
        "id": "rPaBso1n3R-I"
      },
      "source": [
        "import pandas as pd\n",
        "\n",
        "#criando um dataframe vazio para ser preenchido depois\n",
        "\n",
        "\n",
        "df = pd.DataFrame()\n",
        "\n",
        "#criando listas vazias para elas serem preenchidas depois\n",
        "\n",
        "p   = []\n",
        "q   = []\n",
        "r   = []\n",
        "s   = []\n",
        "\n",
        "#___________________________________________________________________\n",
        "\n",
        "#função para limpa os valores da lista\n",
        "def clean():\n",
        "  while len(p) > 0:\n",
        "    p.remove(p[0])\n",
        "  while len(q) > 0:\n",
        "    q.remove(q[0])\n",
        "  while len(r) > 0:\n",
        "    r.remove(r[0])\n",
        "  while len(s) > 0:\n",
        "    s.remove(s[0])\n",
        "#___________________________________________________________________\n",
        "\n",
        "#montando tabela com 2 lista de valores pq\n",
        "def pq():\n",
        "  clean() #usando função pra limpar as lista caso elas estejam preenchidas\n",
        "  \n",
        "  #colando os valores antes de lançar na lista\n",
        "  p_itens = [1, 1, 0, 0]\n",
        "  q_itens  = [1, 0, 1, 0]\n",
        "\n",
        "  #colocando os valores na lista\n",
        "  for i in p_itens:\n",
        "    p.append(i)\n",
        "  for i in q_itens:\n",
        "    q.append(i)\n",
        "  #criando um dataframe\n",
        "  df = pd.DataFrame({'p': p, 'q': q})\n",
        "  #retornando o dataframe\n",
        "  return df\n",
        "\n",
        "#___________________________________________________________________\n",
        "\n",
        "#montando tabela com 3 lista de valores pqr \n",
        "def pqr():\n",
        "  clean() #usando função pra limpar as lista caso elas estejam preenchidas\n",
        " \n",
        "  #colando os valores antes de lançar na lista\n",
        "  p_itens  = [1, 1, 1, 1, 0, 0, 0, 0]\n",
        "  q_itens  = [1, 1, 0, 0, 1, 1, 0, 0]\n",
        "  r_itens  = [1, 0, 1, 0, 1, 0, 1, 0]\n",
        "\n",
        "  #colocando os valores na lista\n",
        "  for i in p_itens:\n",
        "    p.append(i)\n",
        "  for i in q_itens:\n",
        "    q.append(i)\n",
        "  for i in r_itens:\n",
        "    r.append(i)\n",
        "  #criando um dataframe\n",
        "  df = pd.DataFrame({'p': p, 'q': q, 'r': r})\n",
        "  #retornando o dataframe\n",
        "  return df\n",
        "\n",
        "#montando tabela com 4 lista de valores pqrs \n",
        "def pqrs():\n",
        "  clean() #usando função pra limpar as lista caso elas estejam preenchidas\n",
        "  #colando os valores antes de lançar na lista\n",
        "  lst = [[1,1,1,1],[1,1,1,0],[1,1,0,1],[1,1,0,0], [1,0,1,1],[1,0,1,0], [1,0,0,1], [1,0,0,0],[0,1,1,1],[0,1,1,0], [0,1,0,1], [0,1,0,0],[0,0,1,1],[0,0,1,0], [0,0,0,1], [0,0,0,0]]      \n",
        "  #colocando os valores na lista\n",
        "  for i in lst:\n",
        "    p.append(i[0])\n",
        "    q.append(i[1])\n",
        "    r.append(i[2])\n",
        "    s.append(i[3])\n",
        "  #criando um dataframe\n",
        "  df = pd.DataFrame({'p': p, 'q': q, 'r': r, 's':s})\n",
        "  return df\n",
        "\n",
        "#montando tabela vazia com 3 lista de valores pqr prontos para serem usados\n",
        "def pqr2():\n",
        "  clean() #usando função pra limpar as lista caso elas estejam preenchidas\n",
        "  #colando os valores antes de lançar na lista\n",
        "  p_itens  = [1, 1, 1, 1, 0, 0, 0, 0]\n",
        "  q_itens  = [1, 1, 0, 0, 1, 1, 0, 0]\n",
        "  r_itens  = [1, 0, 1, 0, 1, 0, 1, 0]\n",
        "\n",
        "  #colocando os valores na lista\n",
        "  for i in p_itens:\n",
        "    p.append(i)\n",
        "  for i in q_itens:\n",
        "    q.append(i)\n",
        "  for i in r_itens:\n",
        "    r.append(i)\n",
        "  #criando um dataframe\n",
        "  df = pd.DataFrame({})\n",
        "  #retornando o dataframe\n",
        "  return df\n",
        "\n",
        "#___________________________________________________________________\n",
        "\n",
        "#denial\n",
        "def dn(a):\n",
        "  lst =[]\n",
        "  for i in range(len(a)):\n",
        "   if a[i] == 1:\n",
        "     lst.append(0)\n",
        "   if a[i] == 0:\n",
        "     lst.append(1)\n",
        "  return lst \n",
        "\n",
        "#conjunction\n",
        "def cj(a,b):\n",
        "  lst =[]\n",
        "  for i in range(len(a)):\n",
        "   if a[i] == 1 and b[i] == 1:\n",
        "     lst.append(1)\n",
        "   if a[i] == 1 and b[i] == 0:\n",
        "     lst.append(0)\n",
        "   if a[i] == 0 and b[i] == 1:\n",
        "     lst.append(0) \n",
        "   if a[i] == 0 and b[i] == 0:\n",
        "     lst.append(0)   \n",
        "  return lst \n",
        "\n",
        "#disjuction\n",
        "def dj(a,b):\n",
        "  lst =[]\n",
        "  for i in range(len(a)):\n",
        "   if a[i] == 1 and b[i] == 1:\n",
        "     lst.append(1)\n",
        "   if a[i] == 1 and b[i] == 0:\n",
        "     lst.append(1)\n",
        "   if a[i] == 0 and b[i] == 1:\n",
        "     lst.append(1) \n",
        "   if a[i] == 0 and b[i] == 0:\n",
        "     lst.append(0)   \n",
        "  return lst \n",
        "\n",
        "#conditional\n",
        "def cd(a,b):\n",
        "  lst =[]\n",
        "  for i in range(len(a)):\n",
        "   if a[i] == 1 and b[i] == 1:\n",
        "     lst.append(1)\n",
        "   if a[i] == 1 and b[i] == 0:\n",
        "     lst.append(0)\n",
        "   if a[i] == 0 and b[i] == 1:\n",
        "     lst.append(1) \n",
        "   if a[i] == 0 and b[i] == 0:\n",
        "     lst.append(1)   \n",
        "  return lst \n",
        "\n",
        "#biconditional\n",
        "def bc(a,b):\n",
        "  lst =[]\n",
        "  for i in range(len(a)):\n",
        "   if a[i] == 1 and b[i] == 1:\n",
        "     lst.append(1)\n",
        "   if a[i] == 1 and b[i] == 0:\n",
        "     lst.append(0)\n",
        "   if a[i] == 0 and b[i] == 1:\n",
        "     lst.append(0) \n",
        "   if a[i] == 0 and b[i] == 0:\n",
        "     lst.append(1)   \n",
        "  return lst \n",
        "\n",
        "#exclusive_disjunction\n",
        "def ed(a,b):\n",
        "  lst =[]\n",
        "  for i in range(len(a)):\n",
        "   if a[i] == 1 and b[i] == 1:\n",
        "     lst.append(0)\n",
        "   if a[i] == 1 and b[i] == 0:\n",
        "     lst.append(1)\n",
        "   if a[i] == 0 and b[i] == 1:\n",
        "     lst.append(1) \n",
        "   if a[i] == 0 and b[i] == 0:\n",
        "     lst.append(0)   \n",
        "  return lst \n",
        "\n",
        "\n",
        "#tautologia\n",
        "def tg(lst):\n",
        "  yes = 'É uma tautologia!'\n",
        "  for i in lst:\n",
        "    if i == 0:\n",
        "      return False \n",
        "  print(yes)  \n",
        "  return True\n",
        "#___________________________________________________________________\n",
        "\n",
        "#logical_consequence\n",
        "def lc(a,b):\n",
        "  lst = cd(a,b)\n",
        "  x = tg(lst)\n",
        "  if x is True:\n",
        "    return \"É consequência lógica!\"\n",
        "  return \"Não é consequência lógica!\"\n",
        "\n",
        "def lc2(a,b,c):\n",
        "  for i in list(zip(a,b,c)):\n",
        "    if i[0]==1 and i[1]==1 and i[2]==1:\n",
        "      return \"São consequências lógica!\"\n",
        "  return \"Não são consequências lógica!\"\n",
        "\n",
        "def lc3(a,b,c,d):\n",
        "  for i in list(zip(a,b,c,d)):\n",
        "    if i[0]==1 and i[1]==1 and i[2]==1 and i[3]==1:\n",
        "      return \"São consequência lógica!\"\n",
        "  return \"Não são consequência lógica!\"\n",
        " \n",
        "LE='≡'\n",
        "#logical_equivalence\n",
        "def le(a,b):\n",
        "  lst = bc(a,b)\n",
        "  if tg(lst) is True:\n",
        "    return \"São equivalentes!\"\n",
        "  return \"Não são equivalentes!\"\n",
        "\n",
        "def le2(a,b,c):\n",
        "  lst = bc(a,c)\n",
        "  lst2 = bc(b,c)\n",
        "  if tg(lst) and tg(lst2) is True:\n",
        "    return \"São equivalentes!\"\n",
        "  return \"Não são equivalentes!\"\n",
        "\n",
        "#___________________________________________________________________\n",
        "\n",
        "#make a column\n",
        "\n",
        "def cl(a,b):\n",
        "  x = a\n",
        "  X = b\n",
        "  df[X] = x\n",
        "  return df[X]\n",
        "\n",
        "#___________________________________________________________________\n",
        "\n",
        "#salvando tabela em csv\n",
        "\n",
        "def tb(string):\n",
        "  ex = string\n",
        "  return df.to_csv(ex + '.csv')\n",
        "\n",
        "#impressao de modelo pra contruir tabela mais rápido\n",
        "def m():\n",
        "  print(\"\"\"\n",
        "  df = pqr()\n",
        "\n",
        "x = \n",
        "xx =\n",
        "cl(x, xx )\n",
        "\n",
        "y=\n",
        "yy= \n",
        "cl(y,yy)\n",
        "\n",
        "z =\n",
        "zz= \n",
        "cl(z,zz)\n",
        "\n",
        "w =\n",
        "ww= \n",
        "cl(w,ww)\n",
        "\n",
        "\n",
        "j =\n",
        "jj = \n",
        "cl(j,jj)\n",
        "\n",
        "\n",
        "P=\n",
        "PP = \n",
        "cl(P, PP)\n",
        "\n",
        "Q = \n",
        "QQ = \n",
        "cl(Q, QQ)\n",
        "\n",
        "R =\n",
        "RR = \n",
        "cl(R, RR)\n",
        "\n",
        "tb('')\n",
        "\n",
        "df =pqr2()\n",
        "\n",
        "cl(P, PP)\n",
        "cl(Q, QQ)\n",
        "cl(R, RR)\n",
        "\n",
        "tb('')\n",
        "\n",
        "lc2(P,Q,R)\n",
        "  \"\"\")"
      ],
      "execution_count": null,
      "outputs": []
    },
    {
      "cell_type": "markdown",
      "metadata": {
        "id": "Ao3EJJiv2i6s"
      },
      "source": [
        "![image.png](data:image/png;base64,iVBORw0KGgoAAAANSUhEUgAAAawAAADOCAIAAADt4aEeAAAgAElEQVR4Aey9eVQUx9s2jMn7GpVFBEVhWFR0BJK4gNHHJYoSjaAmYIRfVNQoioJhcQdBJIgLxBBcQFFcUERFBFxAHlFwYUSWl0UW4TAyQgYEDsscmDkzc2bm1Hee1PfU6dPd09MzLKJ2/8Gprr7rrvu+queiu7r7Ki3AbAwCDAIMAp8xAlqfce5M6gwCDAIMAoAhQeYkYBBgEPisEWBI8LMefiZ5BgEGAYYEmXOAQYBB4LNGgCHBz3r4meQZBBgEGBJkzgEGAQaBzxoBhgQ/6+FnkmcQYBBgSJA5BxgEGAQ+awQYEvysh59JnkGAQUA9EpRKpTKZDKLW0dHR09PTrwi2tbU9e/ZMKpWiXhQKRWFhYWpqanNzc0VFxevXr9EhpoBDgIgezuDz2e3q6mpubpbL5Zql3PszraGh4eXLl5r1LpVKnz9/3traqlnzQdhKKBTm5uYi9lAGr0AgePr0qVgs7u8U6JJge3t7eHj4tGnTSkpKYEzd3d2xsbFFRUXEEFtaWoKCgqysrGxsbMLDw9va2qBNa2trYGCgtbX1nj17iK2INSkpKd9//z2Px4OHuru79+/fn5iYuGXLFhMTExcXl+3btyNSJjb/zGtw6H22aHR2ds6dO3fYsGE3b97UAASZTObl5aXxmSaTyW7dumVqarpq1Sps7y9evJg5c+bt27exlaRlHo+3YMECOpakzdWq5HK5Dx8+FAgEAICWlpa++nGFh4cvXryYy+UCAF6/fv3DDz+wWCz4u1YGb35+/pw5c6ysrJqbm9VKQQNjWiSoUCjy8vL27ds3ZswYRIIAAIFA4OHhUVZWRuxYJBItW7Zs9OjRWHsAQH5+/rJly9rb24lNVNYkJCSsXLlSKpV2dXWFhoZWVFSobMIYqETg/v37LS0tKs0+XoNLly6FhYVdvnz5p59+6ujoGPhE5HL5ihUrcCQYFBQUEhLSVyzTJ0nV19e7uLiMGzduwoQJISEhR44c6ZPwOjs7ly9f/vjxYxTkhQsXEAmiSmLh2LFjg4gEYXwPHjwwNTXFkVpGRoazs3N3dzcxh8TExK+++ioyMhJ76Pjx42fOnMHW0C97eno6OzvTt2csVSJQU1OzYsUKPp+v0vIjNRCJRI8fP4Y/5qKiItJ/2AOQmrOzM5YExWJxWlqaRCIZgK7pd/H27dvGxsbW1tbDhw9v27atpqaGflsKy/r6+mfPnmENrl69SocEo6KiBh0JZmRkmJmZ4UiwpaVl5syZycnJ2CRhubW1dfr06XZ2dui6r7293c3N7e3btwAAhULx9OnTgwcPHjlyhMvlKhSKgoKCkydPVlRUHD58ODU1VaFQFBUVnThxor29XSAQpKamzps3b/bs2UlJSaWlpSKRKDU19dKlS6jfmpqao0ePBgYGpqenJyQktLW1ZWZmJiUlFRcXAwAKCwtv3LiRlZWFZhh5PF5kZOSBAweys7MVCgXyAwsKhSI7Ozs4ODgiIiIhIUEoFAIAhELh1atX9+/fHx8fT8r7LS0tp0+f3rdv38mTJ9EkAJfLPXLkyKFDh2JjY+EdAbavnp6eCxcuBAUFRUdHZ2dnw0OkHYnF4sTExAMHDkRHR3O53Pb29vr6+uR/t+bmZrFYnJGRkZSUVF5eDuFF6CkUivz8/Ojo6NbW1lu3bgUGBsJBrK6uXrBggYmJydmzZ/Pz84mDAoOhjh8A0NTUFBUVFRAQcPfuXXTtIJVK09LSAgMDjx07Vl9fD101NDScOnWqtLS0uLg4KCjo5s2b0J4UbdwZgkDDDXR3dzcc3MzMTIlE0tTUlJycfPv2bTSJhhtoZWhA/8RccGca6RCTDiIKGACAI8GSkpKwsLADBw7k5uZiz728vLxD/24vX75sb2+H5xifzz99+nRBQQF0KBaLb968GRAQcPr0aXRhSxoV9cCRxlxcXHz48OH9+/ffuXMH/VJIhxJlJ5VKHz16lJSUdOPGDXhzVldXd/PmTTgcpIFhSRAHLwCgpKTk0KFD4eHhe/fuRSRI6oeY4Pv3748dO1ZaWorCo1OgdTsMHZGSoFwuX758+dq1a7FjiTo+duzYsGHDbty4AWtSU1N3794Ny2fOnImJiRGJREFBQRMmTLh58+bKlSsNDAzc3d09PDwiIiLKy8tdXFxMTEzevn0rFouLi4uXLl26aNGi/Pz8t2/f3rlzZ/LkyT///DP0lpyc/Ouvv/J4vNra2lmzZtnY2LS0tLx//37atGk7duwAAMhkMg8Pj5kzZ3Z2dkJO9PPza21tzcrKYrFYp06dQjGjUHfu3CkWizMzM52cnDo6Orq6unx9fTkcTlNT08KFC3/++Wc0swubvH///r/+678gP65cuXLVqlVSqbSxsdHNzY3H4zU2Ni5fvjwnJwfbkVwu3717d3JyslgsDg4OPnDgAACAtKOenh5XV9eDBw/29PTs27dPW1vby8vr1atXDx48GDNmTEZGBgDg3bt3VlZWgYGBAAAsesXFxStWrDAzM/P/d5szZ46NjQ2fz29oaAgKCrKwsHjw4AFkZ9yglJWVUccPACgqKnJ2dq6qqiouLmaxWEeOHAEA9PT0eHp6njlzRigUnjhxYsKECU+fPm1paTl48KCuru62bdu8vLzWrVunr6+flpYGAEhNTcWhDQAgBgMAIB1ouVzu6+v77bffwvv65ORkIyOj3Nxc0oFWhgZpLjKZDHumkQ4x6SBiRxlHgvHx8Zs2bWpvb8/Ly2Oz2X/88Qf87cTExDg4OLx///7Bgwf6+vpLly69du3a+/fvw8LCRowYkZCQAM+NTZs2JSYmCgSCH3/80cHBAQBAGhX1wJHGnJmZOW3atOrq6uLi4gkTJsTHxysbSlx2VVVVbDZ74cKFIpEI/tY2bNiQl5dHGhgAAJEgDl4AwI0bN5ycnHg8Xn5+vqWlJSRBUj+kCXK53K1btz558gQXIfVub0kQALBt27Zvvvnm/fv3xJ5qamosLCycnJzEYrFUKt2yZcvz588BANXV1S4uLg0NDV1dXeXl5SYmJj4+PnFxcaampm/evEF+rly5AkkQ1ri5uWFvh3/+dwMAcLlcW1tbDocDzcLCwiAJCoXChQsXQhIEAISEhEASlEgkv/32W0ZGRldXV2dn58qVK6dOnYqbF9u7d6+7u7tUKlUoFBcvXuzs7Dx//nxAQEDXv9u5c+d0dHQyMzNRqACAN2/e2NvbwwfWx48fnzp1altb25MnT6ZPnw4pJicn59WrV9gm7e3tc+fOvXbtGgCAz+cnJiYCAEg7evLkCYvFevHiBZxaNjIyOnfuHPyRs1gsSIJdXV1z5syBJAgAwKIXFxc3btw4eAH45MkTY2NjeKKcO3eOzWbD22HSQaGOXyQSOTk5xcXFAQDEYvH69es9PT1h13PnzoXXKT09PYsWLVq8eDEcdxMTk7///hsA0N7ebmdnt2/fPgAAEW3SYJQNNADg+PHjiARfvHhhZmaWm5urbKBJ0VCWCwAAnWmkQ0w6iNhRxpJgXV3dt99+Cwkahm1kZFRYWNjR0WFnZxcSEgIAkEqlP/zwg6OjI7xM5nK5LBYLkuDff//t7OwMr9EuXbo0e/bsPjzxLl265ObmJhKJhEKhvb29n58fxVDiEgwLC7OwsKitrQUA1NTU7N69WyaTkcKFJUHoBMHb1NQ0c+bMe/fuwfr9+/dDEiT1Q31m4sKj3u0DEty7dy+LxSLe6MHbK29vb319/WfPnpWWlq5fvx7+r0hJSWGz2cHBwSH/u924cSM+Pt7S0rKhoQFFfP36dRaLBW+fAQA4Evzll1/gleCVK1emTJnS1NQEG0ZFRVGTYGNj49SpU728vP6385C//voLXiGiru/evauvr7948eKcnBz4j3r9+vWOjo6oyaFDh+CNJ2oCCxUVFUFBQQ4ODjAGPp8/Y8aMCRMmxMbGwntqrL1cLvfx8dHT09uxYwe6ZyTt6MmTJ2PGjHnw4AEkfXNz86tXr1KTIBY9LLYlJSVmZmbQFZYESQeFOv6qqipLS8usrCxcUqtWrUK/YQDAkSNHjIyM4M/DzMwMTp6IRKLFixd7e3sDAIhokwajbKCVkaCygSZFgzQXmBc600iHmHQQsYBgSTAhIcHY2Li6uhoaFBQUjBo1Ct7Y2traQjSg/S+//AJPPB6PZ2ZmlpCQIJVKly9f7u/vj3NOGhX1wCmLWSaTpaen+/n5TZgwwcvLSy6XKxtKXAyVlZUsFuuvv/4CAMTExNy9excZ4H4RRBJE8CYnJ7NYrKqqKtgWNyeI80OdIOqdTqEPSPDAgQPGxsbKplE5HM6oUaO2bNnyxx9/oCm8c+fO2draorlCGCj21IQ12J8xBQmGh4dbWVmhS1GVJFhdXT1p0iTs4ypSpPLy8hYvXvzVV195enp2dXU5OTlRv9kjlUqPHDmyffv2trY2FAOcMvv99991dHTs7OzQAKMeJRJJXFzchAkTDA0Nr169KpPJSDsSCoUbNmxYuXJlbW1tZGTk0qVL4aVrYWGhsitBLHpYbEtLS0lJkHRQqOMvLi42NjZOSUlB6QAAILstWrQI/sMDACQkJIwaNQpHgmKx2MHBwcvLC7bFot3T00MajLKBVkaCygaaFA3SXGBs6FeqbIhxg4hFA5bRnOCJEycMDAzgPDUA4O3btywW648//gAAXLx40dra+vHjx7m5uXZ2dmjmBJGgSCRatGjRxo0bcf6VRdXU1ET/xIP3IuvWrTt37lx3dzccGoqhxMUgl8s3btz43XffvXv37vfff4c3AcoCQ7fD0AmCNyIiwsjIqLKyEtYjElTmhzpBXIQUu31Agr6+vuiWitiTRCL5+eef9fX1Fy5c2NjYCA3S09P19fXhTRwAQCKRPH78GHtqQjPsz5iCBC9cuDB69Gg0G4oICJ406GeGboebmprYbLafnx+ax3z16hV6jgG7bmlpkf+7nT17dtSoUbdv3/bw8Jg2bRqiWh6Ph3tHJyMjg81mw+tWFINAIIBTh8XFxWw2G3cGS6VS2G9HR8e6devYbHZjY6Oyjq5fv37kyJGIiIgbN26g6cji4mJTU1N4WYe7Hcaih8VWGQmSDgp1/O/evZswYYKnpydCEk5KrF+/HuYCwbx48eLkyZMpSJCINmkwygYaAPDnn3+iORl0O6xsoEnRUJYLAAD9SkmHmHQQYeLoLyLB27dva2tr37lzBx6qra01NzeHl8aVlZX79++Pjo4+c+YMui0AACASBACsWbPG2toaPc2Ht1+kUVEPHGnM3t7erq6ucrkc+/9J2VCi1FAhOzvb0NDQ19f39OnTsJI0MIorwUuXLg0fPhxOEwMAEAmS+qFOEEVFp6AGCT548IDFYuHejlYoFC4uLsuWLaN4sfvOnTvDhg2Dsz8wpqampm+++Wby5Ml3795tbm6OiopKS0uLj4+3sLBAr0YDABITE9GcoEKh+Omnn5YtW4YeWq1ateqnn36Cj5PGjRu3efNmoVAokUg8PT3hrahCofj555+XL18ukUgaGhqWL18+bdq0trY2uVzu7e2to6Nz+PBhPp//8OHDP/74A7mFEZ44cQKyakdHx9y5c2/dunX37l0dHR0XF5fy8vKampp9+/ah+3TY5OzZs2PGjCkuLhYIBBs2bJgyZcq7d++ysrLgBDMAICAgwN3dHTsqbW1twcHB8DY5Nzd3xowZDQ0NpB29efPG1tb23Llz9/7dsrKy4HV0bW2tmZlZTEwMAODRo0cWFhbodgmL3vnz59FUQ2lpqamp6f379wEA8fHxZmZmXC636d+NOCg5OTkU8cPHTbq6un///XdTU9PVq1cjIiIAAFlZWQYGBvCGHQDg5+cHL6LfvHljamoKf/Pwl7Z9+3YAABFt0jOkpKSEdKABAJcuXWKxWBUVFWKxOCwszNDQMCsrS9lAk6KhLBcAADrTSIf4n3/+IQ4idpTh7a2LiwsAoLW11dbWds2aNXC+LzMzc8GCBa2trTKZ7JdffvH394fje//+fTQ5Xl9fb2pqeuXKFfhcaMSIEWvWrKmpqSkoKIDTdqRRqXvivX371tHR0cHBQSgUvn79esqUKVu2bBEKhcqGEpcgfISycOFCc3NzdLNPGphEIklISGCxWIjoEbyVlZVmZmbz5s1ramqSyWT+/v6TJ0/m8/mkfqgTJIZHUUOXBEtLSz08PL766qu9e/dip/86Ojq+++47xP2kPXV2dq5YsQI944c2GRkZLBZLS0tr6NChe/fuLSsrc3FxGTp06J49e+DVFpfLdXNzGzFixJ9//tnc3Hzp0qVx48YZGxvHxcX9888/jx49Yv+7PXr0SKFQnDp1SkdHh8Viubi4+Pr6QhIEAFy/fl1XV5fNZm/ZsmXnzp36+vonT54UCoUNDQ0ODg5D/t0WLlyIxgPFv2vXrmnTpsXFxR09etTDw6Ozs1MikQQFBQ0bNkxLS2vcuHHp6enIGBZev35tYWFhZGTk7OwcEhIybNgwDw+PO3fumJqahoSEJCQkODs7FxYWYlu1tbXNnDnTzc0tKSnJw8Pj1KlTCoWCtKOmpqb/+q//0sJskydPrqqqkkgkmzZtgvfaERERs2fPnjFjxuPHj7HoFRUV/fTTT3p6eqdOnaqrq4Oxbd26lc/nczicMWPGTJo0CTIdblAkEkl2djZF/HCCct68eUOGDPnyyy9dXFzgiylyuTwyMtLa2vr06dMRERG+vr7t7e1dXV3h4eHDhg377bffKisrU1JSzM3NbW1t8/LyiGgDAIjBUAx0XV2dtbW1sbHx4sWLz5w5Y2Bg8Ntvv/F4POJA19TUKEODy+XicpHL5dgzjXSIa2pqiIOIRhm+/QPPVXjr8+LFi2+++cbf3//y5csbN26Ez8rg49r/83/+Dxrh4cOHX7x4USAQnDhxQltb29XVlcvlisXinTt3/t//+3+1tLQmT56MHpT1yYkXExMzbNgwNpu9e/duJycn+PCNdChRdrjC+fPnPTw80G0BKVz/7//9v9WrV48YMeL48eNtbW1YeOFFoqGhoYGBwbx581xcXHR1dY8dO8bhcGgmmJ+fb2FhcfnyZVxg1Lt0SVCZFw6Hs3DhQvRQQplZc3MzeoMM2XR3d3M4nHfv3qGa3hSampoKCgrEYjG6FYXeamtrS0tL5XI5j8fDPgKWy+Vl/264a0DYqqmpic/nv3r1qrKyEvvNKfwItKurizTUlpaWkpISyb9baWmpWCzu6upqamp6/fp1fn4+uodFbaVSaUNDw9u3b/Py8tA9DjyK66i2tjY8PBzOsikUira2trCwsFu3bsGHiYWFhTweTyaTVVVVUVySo36xBR6Ph53PxQ0KdfzQj1QqLSoqqq6uxgIFr3qeP3+Ou17Gdo3KytDGBQPtlQ10R0fHy5cvBQJBV1dXbW0t+ilSDzSKARaU5YLMiENMMYioFa4gFosLCgpKSkrQuScWi48cOYKu/oRCYWZmpq+vL64h3OVyua9evcI+ZyNGRT1wpDErFIrq6uq6ujqFQtHS0oIu6OgPZXd3N3FaCfeLIM0IW9nZ2Zmfn9/R0dHY2Ih+FDQTlEqlr1+/Jv7QsP6J5V6RoFwu37t3L7qHJ3r/IDU4EvwgMfRtpxKJxNXVFfsyo1wuP336NOnj6b7tejB7+5QGOj4+fsWKFdhvSHJyctB8wmAehU8gNs1JUC6X37x5c2C+61YL6MOHD8OpBLVaDWZjqVTq5+enq6u7dOlSPz8/Hx8fZ2dneBk4mMPu79g+pYFOT083NDScOnXqtm3bdu/e/Z///CcgIAB7rdffYH7O/jUnQT6fj50cHCQgFhcXHzp0aNeuXYmJiepeFQ+SFJSFUVhYGBERERAQcO7cOZXzD8qcfDL1n95ANzc3nzt37sCBA0ePHsU9fvxkRm1wJqI5CQ7OfJioGAQYBBgE1EKAIUG14GKMGQQYBD41BBgS/NRGlMmHQYBBQC0ENCTBPtHWb2lpQV9WqRW0ZsZ9EjN11wqFAn0VQ205GI7y+Xz0Hkm/xtPZ2Yk+FFO3owE+SSjCG4Dzh6J35lD/IaAhCVJo69OJVS6X37p1KyMjY2B+hDCkXsasMq/29vbTp09j37lT2eTDGtTW1kZFReG+4O6PkMrKyvbv36+u5w9yklAE2d/nD0XXzKF+RUBDEqTW1lcZ8blz52JjY1WaYQ1yc3PPnj2LfUv5yZMnuBqsPWmZYj0AUnv6ld3d3b6+vhpf79DvqG8t8/Pzt23b1t+P0TUjQQ1OEgQOh8OJjIyEn1Sjyt4XqM8fsVickJCAfW1WJBJdvnwZW9P7GBgPfY6A5iQIP2xSpq1PEWhRUZGDg4O666dcvXpVV1cXndZQ8mz+/PmkCs8UvVOsB0DRSuWhP//808fHZyAvbFWGRMdAoVDs3Lnz+PHjdIw1ttGABDU7SWCEUqn0p59+0tLSmjlzJtJe1jh4XEOK80cul7u5uX399dfow6SioiIDA4OwsDCcE2Z3UCFAiwQlEsmdO3fg0jBYeX1l2voCgaCNbBMIBAqFwsPDY8uWLRAFmUz27Nmzs2fPNjU1RUdHh4aGYj/WwSL15s0bFouF1AHKysqMjIyCgoKwNthyV1dXfHz83r174+Pjk5KSkIaVsphR25KSErjaFqqBhbKyMmV3jg0NDdOmTUP/8CUSCVn2bR0dHVKpFLeKAK4X6t2ysjLstTDWmAJzaEZUpYf1mZmZ06dPx8o4Yt1CjR9l6cBPIeEHtvAFN/j9P84DJMHu7u7U1NQksg2pJ8GGGp8ksDmUZtH/d4Nf1+LioZOUZudPfHy8rq7uo0ePYI/R0dEjR47ErbABDzU2Np45c+bVq1cXL16MiooiRsjUDBgCqklQoVD4+/v/+uuvQqHw5MmTlpaW6AtHUm19uVweGBi4hLAtXrzY0dGxoqJi4sSJaK2l58+f29vbW1lZeXp6+vr6TpkyxdzcnPRrMIlE4uTkhFYsiY2N1dPTU6YJyOVyXVxcMjMzBQKBv7+/trY2uoQkjRnBffPmzTVr1pA+rklJSVmzZg1OexU2vHHjBpQwgbt3794lZP8/FXZ2dpcvX8atIoC6plO4efPmhg0biDxIjXl3dzepKj3ssaamxtTUFC2BQAyDIh0OhyMWi3fv3h0WFtbd3Z2SkmJgYIC0y5ArSILt7e1RUVFhZBvUG0f2PB5Ps5MEekhKStLW1g4MDNTX1z969Chyiy1QJ6Xx+VNZWTlu3DgomCSVSp2cnIi6mXA1y5CQEB0dnWXLlnl7e2/btg0bG1MeYARUk6BEInF3d4dTeIWFhWZmZlglYQptfVwmnZ2dfn5+UEMYXTQBAEJDQydNmlRXVwd1ko2MjKC8Eq451BfT19d/8eKFTCZzdnZGcuo4S6lUum7dukOHDsH6ly9fmpiYIBJUth6AVCqNiYlhs9l5eXk4h3BXJBKtW7fOycmJKDmzc+dONput8iuOiIgIDodDXEWAtDvSSpFI9J///MfJyYmm6gTEvKysjHT5AdjF+/fvra2tkaYxab+klTCda9eu2dvbw2vn7u7u+fPnKyNBUiekldnZ2Wj5EWhA/yRRKBSbNm2aOHFiaWnpd99998MPP5D+SyPtFwAQERHx9OlTDc4f6BDqg82ePVsgENTU1LBYLLS6A67H6upqFot14cIFXD2zO/AIqCZBGFNHR0d0dPTGjRsNDAywhEKhrY9LBv4gL168qK2tjaXR0NBQNHcjlUqXLVtmb2+Pawt3CwoKDAwMDh8+zOVyLSws0D01zriurs7S0jI1NRXWYzVEYQ0xZni1+8UXXxgaGs5SvllbW3/55ZeWlpa4HlevXj116lS0vBnuKNqFrIFV9ESH4PI0/v7+yjv//49YWVl9+eWXbDYb21ZZGWJ+9uxZ0uUHYKuOjg5bW1vs4i3KvOHqIyIinj9/vmrVqk2bNsFDWDFOrDG8EoQLLfmRbdjzAQAAL+WwlfRPkubm5q+//nr16tVyuXzXrl3GxsY47VtsYMRyRETErVu31D1/sH6OHj2qr6+fn59/9erVESNGECXXoHFNTQ1aaQDbnCkPPAK0SDA7O/vnn38uKCggEgq1tj42H7lczuVyExMTtbW1Hz58iA5hz28AwKZNm+DyMcgAFQQCwZw5cxYtWnTp0iVtbW1lCgL5+fnGxsZouRaaMbe3t3t7e9vY2KCbfdQvLMjl8j179nz77bfEtaxcXV3pkGBjY6NAIFBGgrjuSHdlMpmfn5+tra2yqS5cK4h5WFgY6fID0Lizs/O7775bvny5uk91Ghsb//nnn++//x4urgTXWsIq5qNgIAmKRCIOh5NLtuEubCEJanaSZGVl6erqwiusjIwMHR0dJAqL4qEoNDY2Zmdna3D+IJ95eXn6+vrHjx9ft24dErJFR1GBIUEExQcvqCbBlpaWadOmQVUfIqFQa+sT03v48OHIkSPRZRq8HUYzfVDKfPXq1cSGsCYgIGDMmDHz5s0bP368MqG6N2/emJiYoMlm+jHLZDIooUqUPgQAPHnyxMHBgbRTHx8figUGcLn0hgSzs7OdnJzUfR+bQpUeSsVNnTr1t99+w8VJZ1cul69YscLBwQGKGFJfCdJxCG16c5Ls378fXf01NTVZWVm5ubnhhA6pI9H4/IFuOzs77ezspk+fPn78eIquGRKkHoWBPKqaBKuqqoyNjf/880+FQhEfHz9q1Ki0tDT4ZhkdbX1cMlwu19zc/OzZs6g+NDSUzWbDp5N8Pt/Ozg6twIBsUCErK0tbW1tLS8vFxYWUquAS6T/++KO1tTV80Hzz5k1DQ0N0C08dM1xti/QpcHZ2Npy4RMGgApQLRw+gUT1pgbiKAKkZaeWjR48oHuOSNqFYfgDav3371szMjFobXJlnOFGrp6cHF4Ssr6//+uuvez8nqPFJAldZ+eGHHyApKxSKjRs3Tpo0CXelSZFOL88f6NnPz09LS+vLL7+8ePGisr7gjOH169eVGTD1A+baX5QAACAASURBVIaAahIUCoUuLi7Dhw+fPXv28ePHzczMvvvuOygTT0dbH5eJVCp1dXXFzhaHhobq6+tv27YtKSnJ3d09NDQUye3i2gIAmpubbWxsvvjiC7iqBtEA1hQWFrLZbD09vblz5x46dAgtRQQA0CBmZb2g+traWmtra7RuFKonFuByuthVBIg2fV5DoUoPAMjJyZk8efLr16+lUumGDRtYLBZ2Mk5lMJ2dnW5ubkOHDrWxsdm1a9e8efN6T4IanyRw1hj72uP169d1dHSwD+JUZgQf0PXm/Ll///6wYcPGjRuHe/UHdd3R0REeHj58+HAHBwfcigvIhikMGAKqSRAuolhcXAyvj6qrq9G7oDS19XHJPH36dPHixegtVjgnWFdXl5eXp8FlDs452hUKhQUFBS0tLbjbYc1iRm6VFYKCggICApQdHQz1ylTpw8LCduzYAScE3717Fx8fHx4erlbAcrm8srKyurpaJBJRzAmq5XNgThKKkAb4/KGIhDnU3wjQIkHSIDTW1lcoFEeOHImLi4NucQ9GSPvqTSWWBDWOWWUAbW1tGzdufP36tUrLD26AVaVvbGx0d3dHk4xSqfTw4cPEJz80Y+6rOUEAwACfJBQJDsz5QxEAc6i/EdCQBHuprS8Wi0+ePAnXqN2/f//UqVPR1WWfJ5yfnz927NiUlJRexqwysPr6+mPHjqGFiVXafygDpErf2dkZGRmJpjKlUumdO3fg4meaxdbd3f3999/j1lYGAMCnw+r6HMiThCK2ATt/KGJgDvUrAhqSYJ9o65eXl2dlZQUHB+/atSspKak/PuN///79mTNn/P39IyMjX7582d/rAcA1W/t1wHrpHKtKn5+fT/z4RGP/EokkLS1t7969QUFBuA/FBAIBolp1/Q/ASUIR0gCfPxSRMIf6DwENSbD/AmI8MwgwCDAIDCQCDAkOJNpMXwwCDAKDDgFaJNje3v7s2TPcmys0hXY/LrFl3PjQzBHXSt3dwSOerDLy/hajVigU+fn5an3ti2Lu6ekhfcETGvR35CgMpvDRIaCaBB8/fjx16tTZs2fjBFToCO1+dGLLuPGjkyOuiVq7g008WWXw/S1GLZFIvL29VUpREOMsLi4+f/48qQYaNO7vyIkhMTUfCwKqSRAAsG/fPiIJqhSX7o3YclNT08mTJ8+fP6+uZioF7pr5pBYTpuiOzqHeiCfT8d8fNv0qRq0ZCZaVlXl7e6s8Vfo18v6AmvE5MAjQIsGDBw+SkiC1uHRvxJbj4uK++OILXV3d3NzcvgJCY58UYsK9ia034sm96beXbftVjFoDEuzu7nZxcUF6GRTZ9WvkFP0yhwY5AmqQYE1NTWRkZHh4OPZFE2VCzTixZYFAkJiYeP/+/YqKioMHD8bExFC8nCGXy1etWqWtrT106NCQkBBqBJUJJuNa0fQpFApTUlKuX7/+7NmzkJAQ+GKHshxxXRB3KYSgceLJvRej1kAQ+0OJUVOIKiMSfPr0KZkEdVJ2djbum/GUlJTp06ejO2gul3v69Onq6ur09PSAgIAHDx5g1XFUymgTBxF9MUWqwqBQKHojFU7aHVM5wAjQJUELCwt3d3cfH59JkyZZWloijTZlQs1YsWWRSHTx4kUTE5OVK1du3brVw8Nj5MiRzs7OQqGQNFsejzdhwgRXV9c5c+YsWLBAmRkAgEIwGeeZjk+pVJqcnDxx4kQoMuru7g6/nVCWI64L4q4yIWgAAE48mULomI4YtQaC2B9KjPr+/fsUosqQBP/555+kpCQyCeqwy5cvYx/QKRSKtWvX/vjjj7Dy3bt3/v7+o0aN8vDw8PLyWrZs2bBhw5CMOQBApYw2cRCh1KOXl1dMTAyWT6FlSUlJb6TCSbtjKgcYAbokOG3aNPgtRHl5OYvFwgoRk4pL48SWu7u758yZs27dOniyRkZGjhgxAim74HK+c+fOiBEjkpKSAgMDx4wZU1paijOAu1wul0IwGdeEpk+5XO7o6Ojs7Iy73CDNEdcFcZdCCJoonkxsDoWOqcWoeyOITdrjAIhRU4gqoytB0tiIlW1tbdOnT9+8eTM6xOFwxo4dC5Xfenp6HBwcbGxs0FGNZbQrKyttbGxCQ0OhPg1yCADojVQ41g9T/lAI0CVBNCeoUCh++eWXRYsWoYiJQs0AAJzYMiRBtPhsVVWVkZERVu0DeQMAbN++3dzcnMvlZmdn6+rqKluc88qVKxSCyViH9H0qFIrly5e7u7vjmhNzlMlkvRGCJoon43qEu9Ri1L0UxCbtsb/FqDkcDoWUHroSPHfuHJkEtV90dLREIkGR83g8c3NzX19fVMPhcMzMzHJycmBNbGysoaEhOkoqo11fX+/o6KhS09vY2HjIkCHEc6M3ApEoMKbwARFQmwQBAN7e3vPmzUNBk4pL48SWcSTY1NQ0efLk4OBg5AQV2trapk2b9vPPP8tkspaWlm+++YZ4XQaNw8PDKQSTkUMAAH2fykiQNEdsF6RlCiFoongyqQeVYtS9EcQm7bG/xajh4hvKlOXRleDr16/JJKhzS0pKsHNzkAR9fHxQLjgSTE1NHT16NDqqsYw2n8+fNWvWhg0biN+GMySI4P1IC5qQoKurK/YjeVJxaZzYMiRBuAoXnBEbP348vGfBAZebm6unp4fkArds2WJhYUGq50wtmIx1S9+nMhIkzRHbBWmZQgiaKJ5M6gFWUv/MNBbEpuiRGtvW1laNxajhxJxKEqSIDXsIRoIWOQEAcDgcU1NTJISTmJg4fvx41ETjyAMDAwMCArAXocgn9eggM6YwaBGgS4KzZs2CL0u/fft29uzZaI1EZULNOLFlSIKIOtPS0mxtbZGCExadkJCQMWPGlJWVwcrbt29ra2snJydjbWC5pKRk3LhxmzdvFgqFEonE09PTxsaGVI2Gvk9Igm5ubtjulOWItSEtUwhBE8WTST3ASpVi1JoJYlP0SI1tL8WoKUSV0ZUgRWzYQ3K5fPXq1Y6OjuhpCYfDMTIyun37NgBALpd7enpu3boVNdEs8p6envT0dFIGBACoHB3UO1MYnAjQIsH79+9bWVmtX78+ISFh06ZN8AyD+SgTasaJLUMSnDJlyrFjx+Lj45cuXYoWqMbiIhQKFyxYYG9vj54Iw6e6Hh4eWDNYphZMRvb0fcpksvv371taWrJYrGvXrqHflbIcURcaFIjiycqcfGJi1NSiyuqSIADg8uXLtra26J8fh8MZPXr0kiVLLl26FBISsnr1aj6fj7BFMtqoppeFDzI6vYyZaY5DgBYJAgCkUunr169fvnyJ6Ak6ohBqxooto9vhuro6Doej8uV+XJQUu8oEkymaqHuIIkd1XWHtceLJ2EODpKwM296LUStLUAMS7OjoWLJkCXoSAucEHz58WFxcXF5ejp1ABABgI1cWA1P/uSFAlwRJcaEWasaKLUMSRE+HSb31shIrmNxLV9jm1DliLdUt48ST1W0+kPZYbPtWjBqXhQYkCAB4+vSpp6cnlF3APRjB+sdFjj3ElD9nBDQnQTpCzUhsuaOjw87O7vfff+8/rJFgch92QSfH3nSHFU/ujZ/+bouw7XMxalzkmpEgACAzM/PixYsymSwnJ2fs2LGZmZk4z7jIcUeZ3c8ZAc1JkKa4tFAofPXqVWJi4u7du4ODg58/f0587b73A4AVTO5DhWqaOfYy/oqKCtwkQy8d9m1zLLZ9K0ZNjFOhUJSXlxNfSCZaEmsaGxvz8vJOnDjh5+d34sQJHo+HtSkvL6f4UhNryZQ/NwQ0J8HPDSkmXwYBBoFPEgGGBD/JYWWSYhBgEKCLAEOCdJFi7BgEGAQ+SQQ0JMGB0Z2ng/jAaNOLxeLW1lY68dC0qamp0Wyl+YFfroARpqc5pozZR4qAhiTY37rzdNAcSG16hULx4MGDpKQk3HtndOIktYmNjU1NTSU9RFH5QZYrYITpKUaEOfQJIKAhCarU1h8AaDTQpn/37l10dHRlZSUKr76+HleDDhELf/3119mzZ4n1GtRoQIIfcLkCRphegyFmmnwsCGhOgtTa+v2dv2ba9Fwud/z48V5eXii8iIiIUaNGvXz5EtVQFN6/f79kyZKCggIKG5qHNCDBD7hcASNMT3NYGbOPEQG6JNjU1BQVFRUQEHD37l0kOKpMd14tMX1lqPH5/Lq6OtKjOG16aCOXyx89enTgwIGjR4/e+3cjtpXJZM7OztOnT29rawMAiMXiJUuWIG0IrL0y2fQdO3Zs3ryZ4qaYZu6QBLlcLqmIfEpKCm71yA++XIFmwvRYSJkyg8DgRIAWCRYVFTk7O1dVVRUXF7NYrCNHjsBkSHXn1RXTV4YLj8dzdHQsKSkhGuC06SGd7d69OywsrLu7OyUlxcDAAHu5h/UQExMzcuRIKLVUWVlpbGy8Z88erAEsK5NNv3DhwsSJE3Ev4qLm9HOHJFhSUkIqIh8ZGYn97B8A8MGXK9BMmB4hwxQYBAYtAqpJUCQSOTk5xcXFQa5Zv369p6cnyodUdx5+KUxTTB+5IhbOnz/PZrMfPnyIO0TUpr927Zq9vT1cdra7u3v+/PnKSLC0tHTMmDFw/ab4+HgdHZ2MjAycf7hLKpt+7969UaNGKVsYAABAM3d1b4c/+HIFGgvTk2LLVDIIDB4EVJNgVVWVpaVlVlYWadBE3XlEBEgugVRM/86dOyoFze3s7EaMGDF8+PCEhARs7zhteriSHFLWFIvFDg4Oykiwp6dn4cKF8+fP7+rqcnV1tbKyQguVYbuAOnGWlpa4F1mePHmip6d35coVnDHaxUlFkOYOAIAkyOFwSEXkAwMDcRebH3y5AlJhepQ1U2AQ+HgRUE2CxcXFxsbGKSkppEmS6s7jiIBCTJ/UJ6q8d++ehYXF6dOnkbQfPITTpu/u7v7+++/R9Sk1CQIAQkJCRo8enZaWZmlpuX79emXfMpMqBj99+lRPT+/ChQsoSFyBZu6QBJubm0lF5F+8eAGvapHzD75cgcbC9CgFpsAgMDgRUE2C7969mzBhgqenJyILDoeDkiHVnYdEQEdMH/khFtra2pYtW0Z644nTppfL5StWrHBwcIAf3qskQai27+joqK2tfe3aNWLXsIaUBB8+fKivr3/nzh1lrWjmru7t8AdfrkBjYXplQDH1DAKDBAHVJCiTyTw8PHR1df/++++mpqarV69GRETA6JXpzkMioCOmT4FCTU0NEvHHmRG16aOiovT09OBdc319/ddff63sdhgA0NraOn36dC0tLVNT05qaGpxztEsqm56QkGBiYvL69WtkhivQzF1dEvzgyxVoJkyPA4fZZRAYhAioJkEAAJfLnTdv3pAhQ7788ksXFxf0AZky3XlIBCrF9DWGg6hN39nZ6ebmNnToUBsbm127ds2bN4+CBOEKnFpaWk5OTsoWjlAmm75v3z4nJyexWMzlcm1sbOzt7Zubm7GJ0MxdXRL84MsV9LkwPRY0pswg8AERoEWCUF6/qKiouroa+4qcMt15SAT79u3rczF9hBRRm14ul1dWVlZXV4tEIooHI8iDBgWBQLB06dJ79+7BRXzKy8v37NmTm5uLdUUzd3VJEADwYZcrYITpsaPMlD8lBOiSIDFnCt15SATo6TCxbe9rKLTpVc4Jatx7Wlra/v370bvifD7fx8cHXRdDtzRz14AEP+ByBYwwvcbnDNNw8COgIQlS684PgJg+fGnx5MmT2Kc0iIa+//57NCPZV2NQXl7+559/oiWiWlpaEhIScPfCAACauWtAggCAD7JcASNM31enEONncCKgIQlS6M739PT0t5g+FkqcNr1EIklLS9u7d29QUNCzZ8+wlr0pi0SikpIS7FQAqTf6ufN4PCKBkvrEVQ78cgX9LamPS5DZZRAYYAQ0JMEBjpLpjkGAQYBBoJ8QYEiwn4Bl3DIIMAh8HAioTYJyuTw/P5/P59MUl/4klZAHIKk+17LWTIK7b8NQKBT5+flwgeCP4/fBRPkZIKAeCTY1Nf3+++/a2tp3796lIy79SSohD0xSfahl3RsJ7j4MAwCg8bLCn8EvkUnxgyGgHgkCAAoKCkxMTO7evatSXPqTVELWICmJRHL9+vUTJ05QfJ2ibPz7RMtaAwluXDx9EgZDgjhUmd1BgoDaJFhaWspisSAJUotLf5JKyBokVV1dzWKxtLS0AgIC1B313mtZaybBjYuz92FAh8yVIA5YZncwIECXBFtbW0+ePBkYGHjmzBksCSoTl/5IlZBFIlFxcbGyV2FwSQmFwpSUlOvXrz979iwkJKSqqop0RC9fvjx8+HAdHZ05c+Z0dXWR2gAAenp6Lly4EBQUFB0dnZ2djczoaFm3kW0CgQAnwS2RSMgM2zo6OmQyGZfLPX36dHV1dXp6ekBAwIMHD5BkBgBAZRgw4JqamqNHjwYGBqanpyckJKDXKuFRRIL0JbUVCkV2dnZwcHBERERCQoJQKETIMAUGgT5BgBYJ1tXV/fDDD/fu3WtpaXF1df3qq6/QlSCpuPTHq4Qsk8m8vLxiYmKwv38ENFbeWSqVJicnT5w40dra2tvb293dHapVI2NYUCgUa9euZbPZXl5eBgYGytYnkcvlu3fvTk5OFovFwcHBBw4cQH6otazlcnlgYOASwrZ48WJHR8eKioqJEyeeOXMGert79y7B8H8q7Ozs7ty54+/vP2rUKA8PDy8vr2XLlg0bNgw1BABQhwH9Jycn//rrrzwer7a2dtasWTY2Ni0tLSgR7O0wfUnt1NTUnTt3isXizMxMJyenjo4OrEOmzCDQewRUk6BcLvf29t6+fTvkhZycnNGjRyMSBACQikt/vErIlZWVNjY2oaGhUJgLCzEuKblc7ujo6OzsjD6kwxrDcmNjI5vNXrt27ZMnT0aOHBkVFUW0AQC0t7fPnTsX6nrx+fzExERkplLLGlliC52dnX5+fnfv3tXX109LS8MeIpYjIiI4/25jx469evUqvCx1cHCwsbFBxirD4HK5tra26AOesLAwChJEblUW9u7d6+7uLpVKFQrFxYsXOzs7VTZhDBgE1EJANQk2NDRMnDgRLTWJmxMEAJCKSw9OJeT6+npHR0eVitbGxsZDhgxxd3fHQYlLSqFQLF++nGiGbXXv3j0dHZ0rV660tbXNmDFDmW6NXC738fHR09PbsWNHfX091oNKLWusMSpDErx48aK2trYyVXBkjEjQzMwsJycH1sfGxhoaGiIblWFcuXJlypQpSKY7KiqKggTpS2pDHl+8eHFOTg7p5TmKkCkwCGiGgGoSLCoqMjQ0jImJgR0QSZBUXPrjVULm8/mzZs3asGHD+/fvcZjikqJDgn5+fiwW682bN3BazdTUFJZxnuGtYlxc3IQJEwwNDeHlGLRRqWVNdAVFbrhcbmJiora2NnGRFlyTxsZGgUDA4XCwJJiamjp69GhkqTKM8PBwKysrBBo1CdKX1AYA5OXlLV68+KuvvvL09Ozp6UEhMQUGgT5BQDUJ1tbWslisrVu3wv/DRBIkFZf+eJWQAwMDAwICSHUGcUmpJEEopoCu/tLS0nR0dEi1rKVSKVwFtKOjY926dWw2u7GxEQ6wSi1rivMAJ8FNYQkA4HA4pqamaGYzMTFx/PjxqInKMC5cuDB69OjS0lLYhJoEkVuVhZaWFvm/29mzZ0eNGnX79m2VTRgDBgG1EFBNgmKx2MXFZfTo0ZmZmQCAe/fuGRgYIH15ZeLSH6kSck9PT3p6OikDAgBwSUESdHNzU4b4ixcv9PX1//77b2jQ0NAwefJk0lVN2tragoOD4aPP3NzcGTNmoAWeVGpZK+sdquGam5ujqQwKS0iCRkZGkGXkcrmnp+fWrVtRE5VhlJSUjBs3bvPmzUKhUCKReHp6UtwOI7cqCydOnIDE2tHRMXfu3Fu3bqlswhgwCKiFgGoSBABUVVXNnDnzq6+++vbbb9etWzdq1ChXV1f46q8ycelPUgkZm5RMJrt//76lpSWLxbp27RpuKSg4BkePHjU0NCwsLIS7CoVizZo1VlZWuDWFAQBtbW0zZ850c3NLSkry8PA4deoUmv9SqWVNMd5ECW4KYw6HM3r06CVLlly6dCkkJGT16tXYOFWGoVAoTp06paOjw2KxXFxcfH19+4QEd+3aNW3atLi4uKNHj3p4eDAPRihGkDmkGQK0SBAqS5eWltbV1XV3d1dXV6OfqDJx6U9VCRkr76wZ4qStpFJpQ0PD27dv8/LysNRDR8ua1CGqJEpwo0O4ApwTfPjwYXFxcXl5OfZlSfphNDU1FRQUiMXivrodbmpq4vP5r169qqysxIaEC57ZZRDQGAG6JEjaAYW4NLy62bhxI1yTiKbeMmkvNCuxv7r+U0LGyjvTDKw3ZnS0rKn9U0hw4xriHoxgj2oQBnY4kCv0sjSqYQoMAh8cAc1JkFpcGib2SSoho6T6e/BoalmrDEMsFpNKcOMa5uTkjB07Fs78Yg9pFsbhw4cnT56MvarFviyN9c+UGQQ+LAKakyCFuDQ2pU9SCVkoFFKsuolNX+MyTS1r+v5xEty4hvX19SdOnPDz8ztx4gSPx0NHNQujuLj40KFDu3btSkxMxL7UolAoysvLiW+ho+6YAoPAwCOgOQkOfKxMjwwCDAIMAn2OAEOCfQ4p45BBgEHgY0KAIcGPabSYWBkEGAT6HAENSZCmtj5FuL1RWu/p6Wlvb6dw3reH+lZiHhubZpL3WA90yv0XP53eGRsGgUGOgIYkSEdbnzpzjd+WKC4uPn/+vEAgoPbfh0f7VmIeBtYbyXt1U+uP+NWNgbFnEBi0CGhIgiq19VUmrBkJlpWVeXt746Q6qft69+5ddHR0ZWUlMquvr8fVoEMUBToS801NTSdPnjx//rzKCDWQvM/NzT179ixWlvXJkye4ml7GT9GcOcQg8KkioDkJUmvrq8RLAxLs7u52cXG5d++eSudYAy6XO378eC8vL1QZERExatSoly9foho6BToS83FxcV988YWurm5ubi6FT80k769evaqrq/vgwQPoWSgU2tvbz58/XyXhQns68VPEzBxiEPhUEaBLgjweLzIy8sCBA9nZ2eibOWXa+gKBIDEx8f79+xUVFQcPHoyJicFev0AoEQk+ffo0iWzLzs7GiZWmpKRMnz4dKdZRy8GjAZPJZM7OztOnT4cyLWKxeMmSJbNmzVL2FapcLn/06NGBAweOHj16798NuaKWmJfL5atWrdLW1h46dGhISAhqhSvgJO9lMtmzZ8/Onj3b1NQUHR0dGhpaXV2NawJ337x5w2Kx/P394W5ZWZmRkVFQUBDRWKFQFBQUnDx5sqKi4vDhw6mpqdCGOn6iH6aGQeBzQIAWCRYWFvr5+bW2tmZlZbFYrFOnTkFoSLX1RSLRxYsXTUxMVq5cuXXrVg8Pj5EjRzo7O+NWh4Ak+M8//yQlJYWRbZcvX8aqEkCd+h9//BFWvnv3jloOHjt4MTExI0eOhCJRlZWVxsbGe/bswRqgslgs3r17d1hYWHd3d0pKioGBAfYSklpinsfjTZgwwdXVdc6cOQsWLMDli7rg8XhYyfvnz5/b29tbWVl5enr6+vpOmTLF3Ny8vLwc2aOCRCJxcnKys7ODD4ViY2P19PQeP36MDFChpKRk5cqVBgYG7u7uHh4eERER8BB1/Kg5U2AQ+KwQUE2CEonkt99+y8jI6Orq6uzsXLly5dSpU9HaEaTa+vBL4XXr1kHCioyMHDFiBLqPg/iiK0GacLe1tU2fPn3z5s3InsPhUMjBIzMAQGlp6ZgxY+DVWXx8vI6OTkZGBtYAla9du2Zvbw+funR3d8+fPx9LgtQS83fu3BkxYkRSUlJgYOCYMWOQsh5yDgvZ2dk4yfvQ0NBJkybV1dUBAAoLC42MjLZv345rBXejoqL09fVfvHgBL2+//fZbNBA4+7i4OKKAK3X8OA/MLoPAZ4KAahJsbGycOnWql5dXyP9uf/31F7qXJNXWx8klVFVVGRkZHT9+HIspuhI8d+6cH9kWHR2N1fXj8Xjm5ua+vr7ICe6Df5wcPDKDK2YsXLhw/vz5XV1drq6uVlZW6J4aawbvZzdt2gQrxWKxg4MDlgSpJea3b99ubm7O5XKzs7N1dXVjY2OxzlE5KSkJJ3kfGho6c+ZMuISQVCpdtmyZvb09sscWCgoKDAwMDh8+zOVyLSwstmzZgj2KLcfHx1taWiJRQniIOn5sc6bMIPD5IKCaBKurqydNmkR62wUAINXWx5FgU1PT5MmTg4ODsbCiK8HXr1/nkm0lJSVY6SRIgj4+PsgJjgRxcvDIDBZCQkJGjx6dlpZmaWlJKmsKAOju7v7+++89PT1hEyIJUkjMt7W1TZs27eeff5bJZC0tLd98842yBZggCWIl77EkCADYtGnT7NmzcfHDXYFAMGfOnEWLFl26dElbW5tCYZSUBCniJ+2OqWQQ+BwQUE2CTU1NbDbbz88PPQ959eoVfMgAACDV1ockuG/fPoggj8cbP348dt0MDQRFWltbp06dii7TVMrB4wYvNzdXT0/P0dFRW1ubVOAersuxYsUKBwcH+IU/kQQpJOahf7QSy5YtWywsLN6+fYsLAwBAlLwPDQ1FM30AgF9++WX16tXEhrAmICBgzJgx8+bNGz9+PKl/aEZKghTxK+uOqWcQ+OQRUE2CcMlNHR2dw4cP8/n8hw8f/vHHH3CyT5m2PiTBjRs3QvjS0tJsbW3RohmwEl0J0oRYLpevXr3a0dERPS3hcDgUcvA4t62trdOnT9fS0jI1NYWa2DgDuBsVFaWnp5eQkAAAqK+v//rrr7G3wxQS8yEhIWPGjCkrK4N+bt++ra2tnZycTOyFy+XiJO9DQ0PZbDa8deXz+XAVYGJDWJOVlaWtra2lpeXi4oJ7eo5tEh8fb2FhgdWDgcsDmJiY9Lf+DTYMpswgMPgRUE2CAICGhgYHB4ch/24LFy5Ea0IqhK111gAAH95JREFU09aHJDhlypRjx47Fx8cvXbr00aNHOCzUJUEAwOXLl21tbdGjAGo5eFx3AIDt27draWmhZY+IBgCAzs5ONze3oUOH2tjY7Nq1a968eVgSRBLzuLZCoXDBggX29vboiTB8Uuzh4YGzhBrdrq6uO3bsQIdCQ0P19fW3bduWlJTk7u4eGhqKiB7ZoEJzc7ONjc0XX3yBrjrRIVSorq52cXEZOnTonj170PJvAABl8aOGTIFB4DNEgBYJwlvFsn837O9TmbY+uh2uq6vjcDikb/NqQIIdHR1LlixBC+NSyMH3ZiDlcnllZWV1dbVIJMI+GMFKzPfGPwAAJ3kP5wTr6ury8vJwjzJ62RG2eR/Gj3XLlBkEPnYE6JIgMU8KbX1Igvv37ye2QjUakCCkD09PT5FIBOcEsevkIs99VcDNCeIk5nvTC07yHvdgpDeeKdr2YfwUvTCHGAQ+OgQ0JEFqbX243u7vv/9OAYdmJAgAyMzMvHjxokwmUyYHT9GpWofgw2I4s4mTmFfLD6kxVvJ+//792FcvSe17Wdnn8fcyHqY5g8DgQUBDEqTQ1u/p6UlMTNy9e3dwcPDz58/RM2Vczr1RWm9sbMzLyyOVg8f1ovGuRCJJS0vbu3dvUFDQf//3f+Pe19HYLa5heXl5VlZWcHDwrl27kpKSsEr0OMve7Gomkd+bHpm2DAIfEQIakuBHlCETKoMAgwCDAAUCDAlSgMMcYhBgEPj0EWBI8NMfYyZDBgEGAQoE1CBBhUJRWFh48+bNgX/blr6evkKhwL2VTZF8nx8irjrA5/OVzYoCAGpqavrvnZg+z45xyCDwSSJAlwS7u7v379+fmJjo4eFhaGj4xx9/YD/s7Vdo6Ovpt7e3nz59muKDkH6NE359HBsbW1RUhDqqra2NiopStiJKbGwsEvtDTZgCgwCDwEAiQJcEExISVq5cKZVKu7q6QkND9+zZc/bs2QEIlL6efnd3t6+vb3Fx8QBERdGFQCDw8PBA388BAPLz87dt20b65LefSLCvVhSgSJM5xCDwySBAlwQ9PT2dnZ1R2gOj1a6Wnv6ff/7p4+NDce+Jgu/vQkZGhrOzM/pORqFQ7Ny5E6ckBmPoJxLsqxUF+hsoxj+DwGBAQDUJCgSC1NTUefPmzZ49OykpCWmFkmq10xHWx6YtEAjayDYoa4rV05fL5R0dHWS2bSKRqKGhYdq0aWlpadC5umFgQ0JlkUhUXFxMcdff1dUVHx+/d+/e+Pj4pKSkqqoq2Ja46kBmZub06dOJ03+QBLlcLtn6AkkpKSnE+2gK9X8UOf0VBSQSCSmkHR0dUJ2BTneoX6bAIPAxIqCaBMVicXFx8dKlSxctWpSfn49+yUStdprC+ggmuVweGBi4hLAtXrzY0dFRIBCsXbsW6enzeDxXV1eC7f+sFhIeHn7jxg0Wi1VRUQEAUDcMFA+uIJPJvLy8YmJiSK8uuVyui4tLZmamQCDw9/fX1tZG0tnEVQdqampMTU1v3LiB6wKSYElJCdn6AmGRkZF8Ph/bhFr9H2tJc0WBu3fvEiFdsmSJnZ0dh8Oh3x22a6bMIPBxIaCaBGE+bm5u2NthAACpVjv8aphaWF8lQJ2dnX5+fvX19Tg9fdKGubm5UVFRO3fuZLPZSC+6T8IAAFRWVtrY2ISGhkKFQRSAVCpdt27doUOHYM3Lly9NTEwQCQIAcKsOvH//3tra2tvbG3mABXVvh6nV/7HO6a8ogG2FyhERERwOh353qCFTYBD46BDQnARJtdpx0gmkwvoqMYIkWFFRgdPTJ20ISXD16tVTp05tbW2FNnTCqK+vd3R0nKVqMzY2HjJkiLu7O7b3uro6S0tL9GC3tLTUzMwMS4K4VQc6OjpsbW1x/0UAAJAEORwO2foCfoGBgVhBQJXq/9gIe3p66KwogG2CLUdERDx//nzVqlVIxRYnJ4E1ZsoMAh81ApqTIKlWO459SIX1VeIll8u5/27m5uZYPX3Shl1dXXw+39XVlYIENQsDAMDn82fNmrVhwwasKh984GtsbIxWQCaSIG7Vgc7Ozu+++2758uW4O2tIgs3NzWTrC+S+ePECzo3CxFWq/+PwobOiAK4J2m1sbPznn3+oFxtAxkyBQeCjRkBzEiTVaockSC2sTxMvop4+RUMfHx82m41m0PoqjMDAwICAAOx6TzCGN2/emJiYREVFwV0iCeJWHYC5/Pbbb7gU1Lodlsvl1Or/OOd0VhTANcHuqtsdti1TZhD4iBCgRYIKheKnn35atmwZVlGVVGsesg+1sD5NdIh6+hQNExISWCwWej7bJ2H09PSkp6cTGRAAIBQKf/zxR2tra7hQ+s2bNw0NDdHtMHHVgbdv35qZmZ0+fRqXglokCACgVv/HOae5ogCuFXZXre6wDZkyg8BHhIBqEhSJRJcuXRo3bpyxsXFcXFxzczNMj1SrHbIPUVify+Xa2NjY29uj5nQwwunpUzSpra21trZGqwkrC4PCg7qHCgsL2Wy2np7e3LlzDx06ZGpqikiQuOpATk7O5MmTiZ8bqkuC1Or/xBTorChAbIVq1O0ONWQKDAIfEQKqSZA0GWVa7ZB99u3bhxPWl8vl5eXle/bsyc3NJXVIWonT0ye1QZVBQUEBAQFwV1kYyLhPCkKhsKCgoKWlBXc7TFx1ICwsbMeOHbgJQfRgRK1glKn/q+WEvvEAd0c/MMaSQaCvENCQBJVptUP2IRXW5/P5Pj4+6AEuzQSePn2K9PSpm7S1tW3cuBFebVGEQe1Es6NYEiSuOtDY2Oju7k4q66DulSA2vAF+XDvA3WEzZcoMAv2KgCYkSKHVrkxYv6WlJSEhQa17YZQ20tNHNcoK9fX1x44de//+vbIwlDXsZX1+fv7YsWNTUlKIqw50dnZGRkaiyUpcR70hQaz6P85tf+wOcHf9kQLjk0GAFAG1SZBCq52msD5pHNSVjf9u1DbwqFAofPXqFR19fzre6Ni8f//+zJkz/v7+kZGRL1++5HK52Fbl5eVdXV3YGmyZx+Np9o8Bq/7/7NkzrM/+KA9wd/2RAuOTQUAZAmqToDJHTD2DAIMAg8DHiABDgh/jqDExMwgwCPQZApqTIFFFuc+CUtNRS0sLXIlYzXbqmYvFYnWf6lB3wMhKU+PDHGUQGBgENCfB7u5unIrywESM7UUul9+6dSsjI4P49gnWrE/KCoXiwYMHSUlJFOJaanXUm6cianXEGDMIMAhQIKA5CQIAiCrKFD31x6Fz587Fxsaq5Tk3N/fs2bPYhxVPnjzB1VA4/Ouvv/pKUpshQQqcmUMMAgOGQK9IEACAU1EesLgBAEVFRQ4ODuo+Xb169aquri76ukMoFNrb28+fPx8JQVOn0IeS2gwJUkPNHGUQGBgE6JJgY2PjX3/9FRAQkJyc/P79+87OTngHSlRRhnFzudzTp09XV1enp6cHBAQ8ePCA4o61pKQEK5eCMi8rKyNKK8OjCoXCw8Njy5YtyBgAoEzqGWvz5s0bFovl7+8PK8vKyoyMjIKCgrA2sKxQKAoKCk6ePFlRUXH48GEknEUqqU1sXlNTc/To0cDAwPT09ISEBCLJQhKkLyutFqTEeJgaBgEGAVIEaJFgWVnZzJkzs7OzGxsbZ8+ePWHChGPHjrW0tAAAiCrKAIB37975+/uPGjXKw8PDy8tr2bJlw4YNO3PmDGkEN2/eXLNmDemTjZSUlDVr1nR2dhIb8ni8iRMnYn1SSD1jm0skEicnJzs7O0ivsbGxenp6jx8/xtrAcklJycqVKw0MDNzd3T08PCIiImA9UVKb2DY5OfnXX3/l8Xi1tbWzZs2ysbGBcGEtIQnSlJVWC1JsL0yZQYBBgBoBWiS4b9++OXPmwHm0U6dOjRs3DqqnQNc4FWVYyeFwxo4de/XqVQBAT0+Pg4ODjY0NLhSpVBoTE8Nms/Py8nCH4K5IJFq3bp2Tk1N9fT3OIDs7W19fHy0qolLqGds8KipKX1//xYsXcC2Ob7/9lshQ0D4uLs7U1PTNmzfY5qSS2lgDLpdra2vL4XBgZVhYGAUJYhtSl+lASu2BOcogwCBARIAWCe7du/ebb76BwqJXrlyxsLDAfheBU1GGfXA4HDMzs5ycHLgbGxtraGiI7V6hUPj7+3/xxReGhoYU6s7W1tZffvmlpaUlti0AICkpSVtbOysrC9arlHrGNi8oKDAwMDh8+DCXy7WwsMDdU2Mt4+PjLS0t0bIq8BCppDa21ZUrV6ZMmYK0/qOioihIkKasNABAJaTYGJgygwCDAE0EaJFgZWXljBkzjh49Cm85Q0JCsK+J4FSUYce4X2xqauro0aNxMbW3t3t7e9vY2OAutZCZXC7fs2fPt99+++TJE1QJC5AEHz58CHfz8/OppZ6xzQUCwZw5cxYtWnTp0iVtbe1bt25hj2LLpCRIKqmNbRUeHm5lZYXEqKlJkKasNJEESSHFhsGUGQQYBOggQIsEe3p6/vjjj+jo6MjIyGfPnuEeceBUlGGvHA7H1NQUkVdiYuL48eOJAclksqNHj3p4eMAFHnEGT548cXBwePv2La4eAPDw4cORI0eihxUqpZ5xHgICAsaMGTNv3rzx48eT+of2pCRIKqmN9X/hwoXRo0ejtUmpSRDbkLpME1JqJ8xRBgEGARwCtEgwPj5+wYIFqamp9/7dOBwOkpgmqijDDjgcjpGR0e3bt+HDE09Pz61bt+L6hrsymSw9PZ30KXB2dnZdXR1pKy6Xa25ujl7Zo5Z6JnrIysrS1tbW0tJycXEh5V/YJD4+3sLCArvaEQCAVFIb20VJScm4ceM2b94sFAolEomnpyfF7TC2IXWZPqTUfpijDAIMAlgEaJFgRkbGqFGjtP53GzJkyNq1a+HzXKKKMvTO4XBGjx69ZMmSS5cuhYSErF69Gi0Agu1e47JUKnV1dd2xYwfyQCH1jGxQobm52cbG5osvvoiJiUGVuEJ1dbWLi8vQoUP37NmD7m0BAEhSW5lctkKhOHXqlI6ODovFcnFx8fX17SsS7FdIcekzuwwCnwkCtEjw9u3baOJMJpPV1dVt3rwZXh8RVZQhcHBO8OHDh8XFxeXl5dg5xL5C9unTp4sXL+7o6EAOlUk9I4PeF7CS2tRy2U1NTQUFBWKxuA9vh83MzPoV0t7jw3hgEPjoEFBNgm/evJk1axZ2fYyWlpbw8HChUEhUUUb54x6MoPo+LCgUiiNHjsTFxRF9YqWeiUd7U4OT1KYjl923JIgeuPcmC6YtgwCDAEJANQm+e/du1qxZ48aNW7t27e7duz08PH799deamhqiijJyCgDIyckZO3ZsZmYmtrLPy2Kx+OTJk+iNPOQfST2jmj4p4CS1acplHz58ePLkycTZAHU/mxsYSPsEKMYJg8BHhIBqEgQAiMXitLS0Q4cOHTx4MC0tTSwWw4XJsW8LYnOur68/ceKEn5/fiRMncE8VsGZ9Va6oqBAKhcgbVuqZ+JY1MlO3QCGpTeGquLj40KFDu3btSkxM7OnpwVqqJSs9wJBi42TKDAKfNgK0SPDThoDJjkGAQeBzRoAhwc959JncGQQYBABDgsxJwCDAIPBZI0CLBHt6ep4+fYqddwMA9JO8vkKhIF2it/9GqZ8S6b+AB63nzs7O4uLiQRseExiDACkCqkmwuLh40aJFEyZMePfuHdZFf8jrt7e3nz59uqamBttRf5f7I5H+jnlw+i8rK9u/f//gjI2JikFAGQKqSRAAEBMTQyTBPpfX7+7u9vX11exSQiKRXL9+/cSJE5oR6AdfJ0DZ8Hxc9QwJflzjxUQLEaBFgvHx8aQk2Lfy+n/++aePjw9OnYHmOFVXV7NYLC0trYCAAJpNcGYfcJ0AXCQf7y5Dgh/v2H3OkatBglAIPiAgoKSkBEHWJ/L6AICGhoZp06YhkVSZTPbs2bOzZ882NTVFR0eHhoZiZVxR76hw+fLl4cOH6+joIPFXdAhXUKZ6rywRXHPibllZGXbZJmQgl8s7OjrayDaRSCQUClNSUq5fv/7s2bOQkJCqqirUEBWoPTQ2Np45c+bVq1cXL16MiopCregURCJRcXEx6beMEomELOS2jo4OmUzW09Nz4cKFoKCg6Ojo7OxsXF+QBLu7u1NTU5PItsrKSlwTAICyESFaktb0Uy6kfTGVnyQCdEmQxWLt3Lnz999/nzlz5jfffIMUQ3svrw9hvXHjBovFqqiogLvPnz+3t7e3srLy9PT09fWdMmWKubl5eXk56RgoFIq1a9ey2WwvLy8DA4OCggJSMwAAheo9aSLK/GDrb968uWHDBiIP8ng8V1fXJYRt1qxZoaGhycnJEydOtLa29vb2dnd3R5pjWM8UHgICAkJCQnR0dJYtW+bt7b1t2zZsQ5VlmUzm5eUVExNDvO6+e/cuIeT/qbCzs3v+/Pnu3buTk5PFYnFwcPCBAwdwHUESbG9vj4qKCiPbnj9/jmtCMSI4S2W7/ZSLsu6Y+k8PAbokaGRkVFRUBADIzs42MTF5+vQpwkJjeX3kAQCwc+dONpuNuBUAEBoaOmnSJCilVVhYaGRktH37dmwTVG5sbGSz2WvXrn3y5MnIkSOVXRapVL0nTQT1oqwgEon+85//ODk54R4cKbPPzc2NioqSy+WOjo7Ozs4UQl7UHuAMwIULF5SZUddXVlba2NiEhobC73+ojQEAERERmZmZc+fOvXbtGvxeKDExEddK3dthlSOC869stz9yUdYXU//pIUCXBNGcYGFhoampKfajYM3k9XFQrl69eurUqa2trag+NDR05syZUCRGKpUuW7bM3t4eHcUW7t27p6Ojc+XKlba2thkzZjg5OUkkEqwBLKtUvScmIpPJ/P39KdT/4SErK6svv/ySzWYTOyXWQBJUKBTLly93d3cnGqisgR5qamrMzMySk5OJ9vX19Y6OjirDNjY2HjJkCM0YIiIinj9/7uPjo6ent2PHDtLvESEJtrS0HDx40I9sQ8shwJhVjggA4EPlQkSVqflUEVCbBIuKilgsFlq3FwCgsbw+FlNXV1cKEgQAbNq0afbs2dgmqOzn58disaBG/44dO4hLI0FLlar3pImgXpQVZDKZn5+fra3tixcvlNlg67u6uvh8fm9IEHqgIEFsd8rKfD5/1qxZGzZswEolKjMGADQ2NgoEAolEEhcXN2HCBENDQ7iKFrYJJEGRSMThcHLJNtzFssoRwTqnKPdHLhTdMYc+MQT6gAR7I6+P0PTx8WGz2VipldDQULQwJgDgl19+Wb16NbJHhY6ODjs7O3T1l5aWpqOjA2/ZkA0sqFS9J00E54S4m52d7eTkpO4L3r0hQRhDL0kwMDAwICCA9JKZmCOskUqlbW1t8D35devWsdlsXNbq3g6rHBFlkeDq+yMXXBfM7ieMAC0SvHDhwvjx4+G/cXgleP/+fQhK7+X1oZ+EhAQWi4V9SBoaGspms+FKb3w+387O7s6dO8SRePHihb6+/t9//w0PNTQ0TJ48ef369cQpf2rVe2WJEHvE1Tx69Ai3HB3OgHQXkqCbmxvpUTqVNTU1LBbr+vXrdIxxNj09Penp6WoxIACgra0tODgYfjiUm5s7Y8YMXOLqkiD1iOBiVrbbT7ko646p//QQUE2C1dXVP/30k66ubnR0dG1tbUhIyLBhw7Zt2wYfYqgrr5+YmDhq1Cjig8Xa2lpra+uMjAwEcWhoqL6+/rZt25KSktzd3UNDQ9HCJsgGAHD06FFDQ8PCwkJYqVAo1qxZY2Vlhb2oRIcoVO+VJYLtq6/KMpns/v37lpaWLBbr2rVrUqlUmVK/sh47OjrCw8OHDx/u4OCAcldm3Ff1bW1tM2fOdHNzS0pK8vDwOHXqFO4/jbokSHMdgr6KH+tHZS5YY6b8aSOgmgSp81dXXl8gEOTk5JAu9RsUFIR91Rk+GKmrq8vLy8NdcVCHRH1Umeq9skSovfXVUWql/r7qpZd+pFJpQ0PD27dv8/LyiP9jAADqkiCMR9mI9DJa6uYqc6Fuzhz9lBDoFQlqJq+fkZFx7NgxIohtbW0bN25EOv7Yp8NE497XYFXvKRLpfUc0PdBR6qfp6kOZaUaCKFrsiKBKpsAg0N8IaE6CmsnrFxUV3b59m/TGFr4PcezYMfi8cv/+/VOnTm1paeknCJDqPXUi/dQ7zi1NpX5cq8G220sSRCMy2PJi4vm0EdCcBPl8fn/I6wuFwrKysmfPngUHB+/atSspKQmnSt8n44FVva+trVWWSJ/09fk4EQgE2EdbaiWOHZH+GHG1gmGMPysENCfBzwomJlkGAQaBTxUBhgQ/1ZFl8mIQYBCghQAtEpRKpc+fP29tbRWLxdgv22j1MOBGPT097e3tA94t3Q4HrZC1QqHIz88XiUR0M2HsGAQ+CQRokSCPx1uwYMHt27cVCsWDBw+SkpJIVZgGAyDFxcXn/7/2zjekqS6O4w3fxCJdvQhZf5Bi+EKRMQWrl8kcCcGCmsKg0KgXztwLwSiMYIRZKgomRW6sxfCVoEwoSPSZkUQMIrPohaPBU/lnkF0m41pcuQ88Bw6H++fs3O1qu8/z69Xp3HvPn8/BL/ffPvfJE47jimEwimMoWpH11tZWe3s76bBQHD9UAoH/GAGmEJTMeXBw8NGjR5LKYvjv+/fv29vbM5mMLoPheT4SiWDFoSiK2Ww2HA6TNfl1pK/IukCrNp4ChCBGAYX/FYF8QnB1ddXpdFK0fX+EYCaTOX/+fCwW06t3QRA8Hk9VVRV+TSeRSBw8eDAQCBTehY4i68Kt2mg6EIKFLyu0YEQCTCH47du3kZERMvV8Pl9bW5vkopgiJeZ5nt0Uvbm5mUgkJD/JEkWR5/m3b9+qCfgmJibsdju6mqM7mdE6sQiNg8Hg/v37X758iQ4ZHh4uKyubn5+XrzTHcYpCZo7jFCXSLCJrRnc0i1Wb47hoNDo9Pb20tHT79u3R0VG5BRaHYDweV9JCj8/MzJDwtdq/5dCgBggUA4HcIZhOpwOBgNlsjkQieMRjY2PHjx9PpVK4RhRFipR4dHSU0RTN87zP53v48CHZMioLguDz+YaGhuT5iOTSLpcLvYZNcTLfvXuXrpgm+/348WN5eXl3d7coir9+/WpqanI4HPKnLoIg3Lx5Uy5kPnPmjMvlikQicol0TpH12toaizuaxaqdzWZDoZDVaj137tzVq1evXLlSVlbmdrsl31BFIfj169fx8XElLXQgHA6Tb7lrsn+TVKEMBIqKQO4QFEUxmUwePnyYDMFYLHbgwAHSKkiZ1f379xcWFlhM0Wtra5cuXXI6ncilKm/z8+fP1dXVd+7ckTzETKfTdru9ra1NfghZg3Sk7EJjnucbGhrq6+s5jkPWFp/PRzZIL29sbPj9/p8/fypKpHOKrFnc0YxW7Uwmc+rUKa/Xi1LswYMHZrNZsnz4TJA+KXIry5qS+0MZCBQhAaYQTKVSR48eJUNwdna2tLT06dOnLFPCIUg3Ra+srNTW1ppMJpvNRrEiW61Wk8nU0tJCdp1KpY4dO9bZ2UlWyssoBFmExvjY3t5ei8Xy5s2bZ8+emc3mqakpvClnAYUgx3GKEmm5yFrSIIsxkNGqjUIQfxT406dPhw4d6uvrI3vEZ4KPHz9W0kL7h4eHJfYt8vfddPs32RGUgUBREcgzBOPxeGlpKeMHLpCUmPyDUTNFJxKJ06dPe71eyYkeRraysnLy5Mnm5maJzhOF4PXr1/GeigXkZNYkNH79+rXFYunr6/N6vSdOnNDksxEEIZlM/v79WzEEc4qsWUKQ0aotCcHv37/bbLaenh6SEj4T/PDhg5IW+q93795J7gKzrCnZBZSBQBESyDMEX7x4YbFYFC2napNkNEWvr6+73W75R3xQs7du3fL7/fJvA62vr9fU1LS2tqr1TtZrEhpvbGzU1tba7faKigqPxyNJAbJZtbKaRDqnyDpnCLJbtVEIopuboiimUqmKigqJHx+HoNpE5PWMayo/EGqAQPEQYArBL1++HDlyhLz4jUQiVqsVa69Y5sNoihZFcXV1NRaLyZ9+oMesktv5qGtBEC5cuHD27Fnyzr3aqLQKjf1+/549e0pKSkKhkFqblHpFiTSLyDqnO5rdqo1C8PLly2ick5OTDodDcjadXwiy2L8pcGATEPjjBHKHIMdxAwMD+/btu3jxIratdHd3NzU1yc/IKPNhNEVTWqBvCofDDocDv9NH2Vmr0Hh6enrv3r3l5eWK3w6ndCSKolwijfYnRdaKtm0WdzS7VRuFYGVl5b1794LBYGNjI37vB48/vxBksX/jLqAABIqQQO4QlA+a47jGxkatryWj+0e6m6Lx8H78+OF0Oufm5nANvfBHhMZ4SKTImmLbxvsXWMCXw8vLywsLC4o/qskvBOvq6nZuTQucNRwOBFgI5BOCk5OTN27cIN+bZelJchOd5RCt+8Tj8WvXrqk9VFFrbfeFxnKRtZptW23MWutRCOKnw4qH5x2Cau8zKfYClUCg2AhoDsHFxcX+/n7FUwn63HbaFI16f/78eSgU0hTQuyw0lous6bZtOlXGregRSkdHB2X/PEJwd9aUMmbYBAQKJ6AtBLPZrPw9iZyD2N7e3mlTNDmGv//9R9ZQyrsvNKYYuSnjLGTT5uZmNBrt6urq6el59eqV/IkTanx7e3txcZHxPu8ur2kh04djgQCdgLYQpLcFW4EAEAAChiMAIWi4JYMBAwEgoCcBCEE9aUJbQAAIGI4AhKDhlgwGDASAgJ4EIAT1pAltAQEgYDgCEIKGWzIYMBAAAnoSgBDUkya0BQSAgOEIQAgabslgwEAACOhJAEJQT5rQFhAAAoYjACFouCWDAQMBIKAnAQhBPWlCW0AACBiOAISg4ZYMBgwEgICeBCAE9aQJbQEBIGA4Av8AWbKR+CJQppUAAAAASUVORK5CYII=)"
      ]
    },
    {
      "cell_type": "markdown",
      "metadata": {
        "id": "ul-kd9iS9hbZ"
      },
      "source": [
        "![image.png](data:image/png;base64,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)"
      ]
    },
    {
      "cell_type": "markdown",
      "metadata": {
        "id": "cHQnV6SOBQps"
      },
      "source": [
        "![image.png](data:image/png;base64,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)"
      ]
    },
    {
      "cell_type": "code",
      "metadata": {
        "colab": {
          "base_uri": "https://localhost:8080/",
          "height": 35
        },
        "id": "uPkoAeSrBPxn",
        "outputId": "46481e9e-6931-4d54-d4cd-31e4b2fd6838"
      },
      "source": [
        "df = pqr()\n",
        "\n",
        "x = cj(p,q)\n",
        "xx= 'p ^ q'\n",
        "cl(x,xx)\n",
        "Í\n",
        "y= cj(x,r)\n",
        "yy='p ^ q ^ r'\n",
        "cl(y,yy)\n",
        "\n",
        "cl(dn(r),'~r')\n",
        "cl(dn(q),'~q')\n",
        "\n",
        "z = bc(dn(r),dn(q))\n",
        "zz='~r <-> ~q'\n",
        "cl(z,zz)\n",
        "\n",
        "P = cd(y,z)\n",
        "PP = '(p ^ q ^ r) > (~r <-> ~q)'\n",
        "cl(P, PP)\n",
        "\n",
        "Q = dn(r)\n",
        "QQ = '~r'\n",
        "\n",
        "R = cd(p,r)\n",
        "RR ='(p) > r'\n",
        "cl(R, RR)\n",
        "\n",
        "tb('1b')\n",
        "\n",
        "df =pqr2()\n",
        "\n",
        "cl(P,PP)\n",
        "cl(Q,QQ)\n",
        "cl(R,RR)\n",
        "\n",
        "tb('1b_2')\n",
        "\n",
        "lc2(P,Q,R)"
      ],
      "execution_count": null,
      "outputs": [
        {
          "output_type": "execute_result",
          "data": {
            "application/vnd.google.colaboratory.intrinsic+json": {
              "type": "string"
            },
            "text/plain": [
              "'São consequências lógica!'"
            ]
          },
          "metadata": {},
          "execution_count": 11
        }
      ]
    },
    {
      "cell_type": "markdown",
      "metadata": {
        "id": "7hdjK0Jv8HX6"
      },
      "source": [
        "![image.png](data:image/png;base64,iVBORw0KGgoAAAANSUhEUgAAALcAAAAVCAIAAACL2OgtAAAJ40lEQVRoBe1ZfUiTXRu3AiGXmqKRztISPwsVK0G0kkQxe6QtMqIP+pipZfrit/YJWpZKlpmWusCZWJm2sswwSjNWiWN9zNnE6VQ2N6WZTMeU3Tfnhff0nud+7s15b1n/PJ6/rnOd6/Psd1/XOWcWYHEs7sB8O2Axn8Di+uIOgEWULIJg/h0whhKVSjU1NTW/jd8voVQqNRrN7/aj1WrHxsYW0ItYLB4eHjbDII7jIyMjZiiarSKTyXAcn0vdGErUanVFRUV3d/dcyn+Aj2HYw4cPW1pajOSwUGHgOP78+fP6+noMwxbEZkVFxePHj0019f3797KyMrFYbKrir8j39fWVlJR8//7doBFjKAEATE5Oslisz58/G1T+A8w7d+5UVFSY5GhoaOjGjRs9PT1Ia3BwkMRBS/rEtWvXbt++rc83g2MGStRqdUpKCp/PN8OdXC4vLS2tqqpSq9VmqH/48CEhIcFg95gHJQCAlpYWBoNhnmMzYiWqdHd3h4eHj46OEpnz0hKJxM3N7eTJk0iysLDQzs7u/fv3iGOEUCgUERERXV1dRmQoLpmBkuLi4uTkZPMKZ2Vl5dKlS62trdvb2ylGSBTDcTw1NfXq1atEJqT/gRK5XF5SUpKTk/P06VOdTgcllErl5s2bGxoaSMqTk5N1dXXPnj0TCoXnz58vLy//8eMHSWbeqUwm6+/vNyiG4ziLxYqLiyOuYhjW1tZ25syZgoKC5v8N4iqkdTodg8EICAgYHx8HAGi12oiIiKCgoImJCZIwjuNdXV2lpaVCoTA/Px91h6SkpOPHjxvpOxRzhyiRSCT1hkZjYyOpwg8PD/v7+3O5XBgnRS9QGMOwPXv20Gg0S0vLCxcukDIlTcVicUFBQW5u7pMnTzgcDioBL168CAgI0D9L/Y2S7u5uBoMhEon4fD6dTr98+TJyv2vXrgMHDhABrtFo7t696+zsHBMTc+LECRaLZWtry2AwpqenSQEZn0ql0p07dwoEAn0xqVS6fv36W7duoSWtVpuenp6Xl6dWqxsbG+3t7YkFA4kBAMrLy21tbV+/fg0A6OnpcXJyysjIIApAWiAQxMTE2NvbHzp0iMViFRYWQn51dfX69eulUqm+CgCAeu4QJQKBIM/QKCoqkslkRBf379+n0+lCodAkL9CCVCpdt25dbGxscHDwtm3bjPwQDQ0N+/fvl0qlfX19QUFBvr6+SqUSGhGLxS4uLvfv3ydGBcD/b8IajSY6OrqyshJ+fIcPH46Pj0eiCQkJGzduVCgUiAMAUKvVwcHBBw8enJ2dBQAUFRVZWVk9f/6cKEOFrqqq8vT0bG1tJQm/evVq5cqV6MMCANy7dy8sLGxychJ6Dw0NnQslnz59cnR0hJ8Um81esWJFS0sLyT6cVlZWuri4fPv2jbja3NxsZ2dnJBeKuZvacVJTUz09PeVyOQyGohco3NTUZGVlVV9fn5ub6+jo+OnTJ2JGiJZIJIGBgTweD3Ly8vKIKFEoFD4+PqdOnULykPhZS0Qikbu7+8uXL0nLcJqZmUmn0yUSCXEV5pCdnQ2ZIpFo1apVpK7W1NQUNN/YtGmTlZXV8uXLORwO0X59fT2NRkMhwYp67NgxKKPVasPDw+dCydTU1Pbt20NDQ3/8+BEbG+vt7Y22nugCAMBms93d3Uk19vXr1zY2NjU1NSRhNKWSOwAAooTH4/3H0MjNzSWVq7179/r5+aHbOEUvMKrExMS1a9dKJJJXr15ZW1vPdeSvqanx8vJCu1FSUkJEiUqlCgwMZDAYKFNI/EQJn893cnJqbGwkLcPpmTNnnJycSHczUg5yudzDw+PcuXMGLRhhNjc3u7q6lpWVwZqEJCFKUI1Rq9Vbt25FFc44SgAAFy5ccHBw4HK57u7uhw8fJrZL5GIulHR0dNjY2FRXVxMliTTF3CFKRkdH2w2Nd+/ewbqILMfGxhpBiZEdHh8f9/f33717t06nUyqVGzduZDAY6GSJ7AMALl265O3tjdoCCSUTExNbtmzZtWsXabt+omRoaGjdunXx8fFoGRUlAEBKSoqnpyepicKdysrKgkFIpVI3N7fa2lpiTPPS4+PjUVFRBmt7a2urra0tOlFiGPbXX3+Fh4drtVrYFo3UEgBAe3u7jY3Nzp07aTTavXv35orEYC1pbW1duXJlU1PTXFoUcze14yQnJxP3maIXlGx5eTkMOC4uztXVdWBgQD/+6upqBwcH1I9IKBkbG/Pz8zt69ChJ8SdKdDodi8Wytra+fv26XC6vra1FRzkcx5lMZlRUFPx5kD7M4ciRI5DD5XIDAwNNfTEUi8WdnZ3IJpGQSCRr164lPl2UlJTY2NjAxjQ4OLhhw4a5Og4AYGxsLCAgwMLCwsXFhVQFiV7YbLarqyup8nM4HGdn569fvxIliTTF3E1FCYfDodPpIpEI+qLoBRZOR0dH9Kz16NEjGo2mfy0FAAgEgtWrVx8/fnx6enpmZiY+Pp7YcQYGBtasWVNWVkZM9u/TKwBAIpGEhIQsWbJk2bJlTCYTdUeVSrVlyxZ9TZiDl5fXlStX2Gx2ZGRkW1sbyfqvTGdnZ2NjY5OSkpCRiYmJffv2WVpa+vr6pqWlhYSEGEEJACAxMdHCwiI6OnpmZgYZIRK9vb1MJtPS0jIjIwMVYQBAVlZWdHS0VquVSCS+vr5hYWGkNxuKuZuKkr6+Ph8fH3TQpuhlenp627ZtYWFh6F4D7zssFouYLKRxHL958+aKFSvodDqTyUxJSSGi5M2bNx4eHvqfx89aAk3Mzs52d3f39vYSnwp4PN727dvReQc5hjlkZWX19/fzeDx050YCv050dHTs2LFDpVIhUxiG9fT09Pb2ajQa4x0HqZhKTE5ORkZGNjc3AwAwDPvy5UtGRgbpnYpi7qaiBABw9uzZnJwcGDNFL6YmCACQy+VdXV1arZbUcfLy8pKSktCpA1n+B0oQFxEYhmVmZhKvo2gJ5oDuOIi/gASO45cvX4b3c5LZeU+vJHnqUy6Xm52djY5+MpksOTkZVVZoh2LuZqBkfHz8yJEj8Gum6IV6avqSRJSMjIwcOnTI4JnBGEowDHvw4MGjR4/0rQMAVCrVpk2bTp8+bXB1oZharba0tJR4lIaW4ZUHnYoWyt2XL1+Ki4tRXVQqlRwOh9RuqOduBkoAAIODg1euXFEoFH9gh/Pz8z08PGQy2cTERFFREToSkfbTGEpkMhnpjQQpT01N1dXVpaennzt3rrOzU79GIckFIYRCIWq6AICZmRkul5uZmXn27Nm3b98uiAv43CkQCIjd1qBl6rlLpVJ9hBm0SWJOT09//Pjxd+8wn8+/ePFiWlpaXV3dhw8fjPzBYgwlpNAXp//aHVhEyb/2pzch8f8Cop97XXBQn6QAAAAASUVORK5CYII=)"
      ]
    },
    {
      "cell_type": "code",
      "metadata": {
        "colab": {
          "base_uri": "https://localhost:8080/",
          "height": 35
        },
        "id": "rPXAqpNQ8brS",
        "outputId": "471104ab-64fa-4fab-8573-5bf928f75d20"
      },
      "source": [
        "df = pqr()\n",
        "\n",
        "x = dj(q,r)\n",
        "xx = 'q v r'\n",
        "cl(x, xx)\n",
        "\n",
        "P = cd(p,x)\n",
        "PP = 'p > (q v r)'\n",
        "cl(P, PP)\n",
        "\n",
        "Q = cj(p,q)\n",
        "QQ = 'p ^ q'\n",
        "cl(Q, QQ)\n",
        "\n",
        "R = p\n",
        "RR = 'p'\n",
        "cl(R, RR)\n",
        "\n",
        "tb('1c')\n",
        "\n",
        "df =pqr2()\n",
        "\n",
        "cl(P,PP)\n",
        "cl(Q,QQ)\n",
        "cl(R,RR)\n",
        "\n",
        "tb('1c_2')\n",
        "\n",
        "lc2(P,Q,R)"
      ],
      "execution_count": null,
      "outputs": [
        {
          "output_type": "execute_result",
          "data": {
            "application/vnd.google.colaboratory.intrinsic+json": {
              "type": "string"
            },
            "text/plain": [
              "'São consequências lógica!'"
            ]
          },
          "metadata": {},
          "execution_count": 31
        }
      ]
    },
    {
      "cell_type": "markdown",
      "metadata": {
        "id": "wY7K-y3J_YFE"
      },
      "source": [
        "![image.png](data:image/png;base64,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)"
      ]
    },
    {
      "cell_type": "code",
      "metadata": {
        "colab": {
          "base_uri": "https://localhost:8080/",
          "height": 35
        },
        "id": "VMs259X-CfI8",
        "outputId": "5eb5cd03-489f-4c2f-a9c3-3f3cc76fbe6a"
      },
      "source": [
        "df = pqrs()\n",
        "\n",
        "x = cj(p,q)\n",
        "xx = 'p ^ q'\n",
        "cl(x, xx )\n",
        "\n",
        "y= cj(r,s)\n",
        "yy= 'r ^ s'\n",
        "cl(y,yy)\n",
        "\n",
        "P= cd(x,y)\n",
        "PP = '(p ^ q) > (r ^ s)'\n",
        "cl(P, PP)\n",
        "\n",
        "Q = p \n",
        "QQ = '~(~p)'\n",
        "cl(Q, QQ)\n",
        "\n",
        "R = q\n",
        "RR = 'q'\n",
        "\n",
        "S = s\n",
        "SS = 's'\n",
        "\n",
        "tb('1d')\n",
        "\n",
        "lc3(P,Q,R,S)"
      ],
      "execution_count": null,
      "outputs": [
        {
          "output_type": "execute_result",
          "data": {
            "application/vnd.google.colaboratory.intrinsic+json": {
              "type": "string"
            },
            "text/plain": [
              "'São consequência lógica!'"
            ]
          },
          "metadata": {},
          "execution_count": 32
        }
      ]
    },
    {
      "cell_type": "markdown",
      "metadata": {
        "id": "_Te0A9xrDuc6"
      },
      "source": [
        "![image.png](data:image/png;base64,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)"
      ]
    },
    {
      "cell_type": "code",
      "metadata": {
        "colab": {
          "base_uri": "https://localhost:8080/",
          "height": 52
        },
        "id": "b9VwwjwTDzhZ",
        "outputId": "c0451099-ffc2-4bc8-d68c-51a4340b6501"
      },
      "source": [
        "df = pqr()\n",
        "\n",
        "P= p\n",
        "PP = 'p'\n",
        "\n",
        "x = dj(p,q)\n",
        "xx ='p v q'\n",
        "cl(x, xx )\n",
        "\n",
        "y=dj(p,r)\n",
        "yy= 'p v r'\n",
        "cl(y,yy)\n",
        "\n",
        "Q = cj(x,y)\n",
        "QQ = '(p v q) ^ (p v r)'\n",
        "cl(Q, QQ)\n",
        "\n",
        "tb('1e')\n",
        "\n",
        "df =pqr2()\n",
        "\n",
        "cl(P, PP)\n",
        "cl(Q, QQ)\n",
        "\n",
        "tb('1e_2')\n",
        "\n",
        "lc(P,Q)"
      ],
      "execution_count": null,
      "outputs": [
        {
          "output_type": "stream",
          "name": "stdout",
          "text": [
            "É uma tautologia!\n"
          ]
        },
        {
          "output_type": "execute_result",
          "data": {
            "application/vnd.google.colaboratory.intrinsic+json": {
              "type": "string"
            },
            "text/plain": [
              "'É consequência lógica!'"
            ]
          },
          "metadata": {},
          "execution_count": 13
        }
      ]
    },
    {
      "cell_type": "markdown",
      "metadata": {
        "id": "vQTfkN5xFA4v"
      },
      "source": [
        "![image.png](data:image/png;base64,iVBORw0KGgoAAAANSUhEUgAAALwAAAATCAIAAAClYfDHAAAJNklEQVRoBe1ZW0xTzRbGFx/EFBH9tdxCJKCgwQYEo2BASbmKKQZ4ABSFCAKCIPeLgMSIQEJMEIwKaoUA0UoVBRMSLmJKBQkXuQihtoKFAqGX7LYphN3MyXGSyc5uaQsHTP4T52l1zTfrWzP727NmT43A3/Z3BTa4AkYbxP+F/10BsK5o1Gp1f39/U1PTt2/f/vA6yeXy5eVlQ0jVavXs7KwhyO3AiMViuVxOjCwUCtVqNdFDtCcnJ2dmZoief6mtXTQYhmVlZdXX18fExJiZmd25cwfH8T8zw4GBgSdPnshkMr10y8vLlZWVk5OTepHbBMAwrLq6+uvXryj+1NRURUXFeoqvrq5ubm5G4H+voV00TCYzKChodXVVKpUWFRWlp6c/evToD0xyeHg4ISEBwzC9XBiGJScnDwwM6EVuK0Amk8XExAwPDyMWLpcbFxdH2oFg7zaJ5ufPnw8ePBgbG0M58Pl8kgd1bYmhXTSxsbEMBgMRiEQiOp3e19eHPNthYBgWHBzc0tJiSPDy8vKkpCQdtcCQIFuCaW1tZTAYSOhqtTo1NfX+/fuawbdJNDwez8bGJj4+HjGWlpaampr29vYiz9YaZNHIZLLm5mZ3d/eTJ082NDQMDQ1BvsTExOjoaFKRkslk9fX179+/Hx0dvX37dlVVlVQq1ZGfTCZb0tZgMWKxWDQabW5uDgCA47hYLNaGXVIqlTMzM8ePH2ez2ZBro2lozVCpVA4MDJAmSERKpdKampqMjIyampqGhobx8XHYu7CwcOLEiVevXiFwW1sbjUbTPL5A0fB4vAZtjcViadY1HMfb29tzc3Pv3bvX8rshFmSsra0xGAwajba0tAQAUKlUdDrdzc1NIpEgDDRWVla0LqlYLF5bW4PLrpcOAI2DsEqlGhgY8PHxOXv2LJfLRTN/+vTpoUOHBAIBykOpVNbW1pqbmwcFBV27di0mJsbExITBYCgUCoQhGjiO5+Tk0DXauXPn/P39ZTJZeHi4r6/v6uoqAEAgEISGhmpg/7sWd+/ebWxstLCwGB0dBQBsNA1iSkR7bW0tPj6+qqpK6+7F4/GCg4Pb2tpkMllKSoqxsfGHDx/gcBzHAwMDw8PD0cDJyUlLS8vGxkZifAAAFM3g4GCxtlZWViYUColDVCpVWlpacXExhmEsFmvv3r3E7YSIrKqqMjEx6ejoAACMjY1RqdT09HQiANrv3r3TXFI6ne7i4sLhcAynI+80MHpYWBixPAEAWlpaTE1N0UpBGIZhp06dioiIgE+6rKxs165dJIxm6iSPRCK5efMmn8+n0WjR0dGkXtLPrq6uioqK1NRUe3t7uCcBALYkDbjcjo6ORUVFKpWKyLu6uhoREVFYWAidvb295ubmxGnGxcUdO3ZMJBJBgEgkcnBwSEhIIAZBoiE5dfysq6vz8vKC2zCGYR4eHuuJZmhoaP/+/QUFBQCAmpqa3bt3t7a26ohM6iotLeVwOIbTGSqajo4OCoXy4sULIh98WllZWdA5Pj7+zz//aC3nxFEkG4pmdHTU2to6OTmZ1Ev6CUUTEhLi5OS0uLgIew1Jg8/n+/v7u+lrVCp1x44dkZGRRN7p6WlbW1v04TM0NGRlZUUUTUZGhoWFBY/Hg6PEYrGzszPprUOi4XA4N7W1nJwc4kaO4/jFixevXr0KY6pUKm9v7/VEI5fLPT09PTw8pFJpaGjokSNH0BtFnMh6dmlpaU9Pj+F0hoqmu7ubQqE8ffqUSEx6WnNzc3Z2dvn5+USMXhvHcd7vZm1tnZSUpBsvlUqFQmFoaKgO0WwuDQCAUCh0c3O7fPky2jNgMlwul0qlohO6pmhyc3OpVCr6+JdIJK6uroGBgahgwTiwPM3Pz3dpa58/fyZeNGAYdubMmdjYWDhWt2gAAAUFBfv27WOz2ba2tpcuXSJR617V2dnZX79+GU5nqGg+fvy4Z8+eN2/eEOmhaDIzM6FTIBDY2Ni8fPmSiDHQXlxcdHJyQi+W7lFJSUn29vboBLBVaeTk5GRnZ6+srJDYv3//bm5uXlFRAf2aoklOTibmA+dy5coVUpwNfT3hOH7+/Hlvb29YK/WKpquri0Kh+Pv7Gxsb19XVkaj1/twQnRbRqNXqCxcu+Pn5wZMK5GMymebm5qTbYfi0oqKiIIbNZjs7O2/uihbH8ZCQEH9/fyLpelNlMpkWFhbo+2VL0pDL5W/fvtVUDABAoVD4+vo6ODhMTEwAAJqamszMzFB5UqvVwcHBfn5+6CT048cPKyuryspKUv4bEg0AoKKigkKhMJlMAACfzz969Oh65QkAsLi4SKPRjIyMLC0t0Z5HSkD3T8PpyKJRKpXPnj07ePAglUp9/Pjx/Pw8ZMrMzAwICEDrAp3waR0+fLikpKSmpsbHx6e9vR0AwOPxHB0dvby80HDd6cLe58+fOzs7Lyws6AVPTU05ODigs956aeiNYzigv7/f3t6eQqGcPn26sLDQ0tISiUYsFru6uhIl0tnZaWdnR3rB0JnGcFKJRBIWFrZz505HR8dbt265u7vrEA0A4Pr160ZGRgEBAVqlr5fXcDqyaLSGlslkPj4+qKgjDHxamZmZ09PTHA4HXXDhOD4yMpKent7V1YXAeg2xWEyn0zs7O/UiAQB5eXnZ2dkQuV4ahsQxHKNQKPr6+hYWFkjlicPheHp6Eg+excXFiYmJmqeKje408OJkbGxsYmJCqVTqOAgbPgvdSBzHDaEzSDRsNjsrKwve/xBZ4dNCX0/ELqFQmJSUhD5wiF067O7u7tjYWKVSqQMDu5aWlqKiouDbrCMNvXE2ASCKBsfxjIwMdM0IAJidnY2MjNRaozchGpSe3jMNQm6JoZtOv2hGRkbKy8vRLkLMSSwWu7i43Lhxg+gEACwsLDCZzA3VJhShra2ttrZWU6AIgAw+n19SUiISidZLAyG31uByuQcOHGCxWDiONzU1vX79GsWXSCRlZWXosIX80PhfRAM/ptDxkRR5y3/qptMjGqVSOTg4qPVyXS6X19fXp6Wl5efn9/T0aO7Gm57J7O9myHCFQvHly5dtSkNrAiKR6OHDhykpKWVlZb29vehuBoJHRkZ0/JEiEAg29yKtrKyw2eyMjIy8vLxPnz5pTWwLnXrp9IhmC1P5G+r/ZgX+A95ghQUo90XRAAAAAElFTkSuQmCC)"
      ]
    },
    {
      "cell_type": "code",
      "metadata": {
        "colab": {
          "base_uri": "https://localhost:8080/",
          "height": 35
        },
        "id": "Kpcxs3SPFWzJ",
        "outputId": "5a688e7b-3d01-4deb-a119-140b0fb94ab1"
      },
      "source": [
        "df = pqr()\n",
        "\n",
        "P= p\n",
        "PP = 'p'\n",
        "cl(P, PP)\n",
        "\n",
        "Q = cd(p,q)\n",
        "QQ ='~(~(p > q))'\n",
        "cl(Q, QQ)\n",
        "\n",
        "y= dn(q)\n",
        "yy= '~q'\n",
        "cl(y,yy)\n",
        "\n",
        "R = dj(q,y)\n",
        "RR = 'q v ~q'\n",
        "cl(R, RR)\n",
        "\n",
        "tb('1f')\n",
        "\n",
        "df =pqr2()\n",
        "\n",
        "cl(P, PP)\n",
        "cl(Q, QQ)\n",
        "cl(R, RR)\n",
        "\n",
        "tb('1f_2')\n",
        "\n",
        "lc2(P,Q,R)"
      ],
      "execution_count": null,
      "outputs": [
        {
          "output_type": "execute_result",
          "data": {
            "application/vnd.google.colaboratory.intrinsic+json": {
              "type": "string"
            },
            "text/plain": [
              "'São consequência lógica!'"
            ]
          },
          "metadata": {},
          "execution_count": 14
        }
      ]
    },
    {
      "cell_type": "code",
      "metadata": {
        "id": "Sq-KtxFJeJPN"
      },
      "source": [
        ""
      ],
      "execution_count": null,
      "outputs": []
    },
    {
      "cell_type": "markdown",
      "metadata": {
        "id": "uNcLIbRYGOjo"
      },
      "source": [
        "![image.png](data:image/png;base64,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)"
      ]
    },
    {
      "cell_type": "code",
      "metadata": {
        "colab": {
          "base_uri": "https://localhost:8080/",
          "height": 35
        },
        "id": "aaP5NpBSGTeY",
        "outputId": "52f0c15d-e2f1-4efb-bc7e-0725c644ed4b"
      },
      "source": [
        "df = pqr()\n",
        "\n",
        "x = dj(q,r) \n",
        "xx = 'q v r'\n",
        "cl(x, xx )\n",
        "\n",
        "P = bc(p,x)\n",
        "PP = \"p <-> (q v r)\"\n",
        "cl(P,PP) \n",
        "\n",
        "Q = q\n",
        "QQ = 'q'\n",
        "\n",
        "R = p\n",
        "RR = 'p'\n",
        "\n",
        "tb('1g')\n",
        "\n",
        "df =pqr2()\n",
        "\n",
        "cl(P, PP)\n",
        "cl(Q, QQ)\n",
        "cl(R, RR)\n",
        "\n",
        "tb('1g_2')\n",
        "\n",
        "lc2(P,Q,R)"
      ],
      "execution_count": null,
      "outputs": [
        {
          "output_type": "execute_result",
          "data": {
            "application/vnd.google.colaboratory.intrinsic+json": {
              "type": "string"
            },
            "text/plain": [
              "'São consequência lógica!'"
            ]
          },
          "metadata": {},
          "execution_count": 15
        }
      ]
    },
    {
      "cell_type": "markdown",
      "metadata": {
        "id": "-FEewPzhJJRP"
      },
      "source": [
        "![image.png](data:image/png;base64,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)"
      ]
    },
    {
      "cell_type": "code",
      "metadata": {
        "colab": {
          "base_uri": "https://localhost:8080/",
          "height": 35
        },
        "id": "mxsm-sfxJq9p",
        "outputId": "41eae9dd-ac87-4403-c867-32a1d0450cb3"
      },
      "source": [
        "df = pqr()\n",
        "\n",
        "x = dn(p)\n",
        "xx ='~p'\n",
        "cl(x, xx )\n",
        "\n",
        "y=dn(q)\n",
        "yy= '~q'\n",
        "cl(y,yy)\n",
        "\n",
        "z =dn(r)\n",
        "zz= '~r'\n",
        "cl(z,zz)\n",
        "\n",
        "w = dj(y,z)\n",
        "ww= '(~q v ~r)'\n",
        "cl(w,ww)\n",
        "\n",
        "\n",
        "P= bc(x,q)\n",
        "PP = '~p <-> (~q v ~r)'\n",
        "cl(P, PP)\n",
        "\n",
        "\n",
        "Q = cj(r,p)\n",
        "QQ = 'r ^ p'\n",
        "cl(Q, QQ)\n",
        "\n",
        "R = p \n",
        "RR = 'p'\n",
        "\n",
        "tb('1i')\n",
        "\n",
        "df =pqr2()\n",
        "\n",
        "cl(P, PP)\n",
        "cl(Q, QQ)\n",
        "cl(R, RR)\n",
        "\n",
        "tb('1i_2')\n",
        "\n",
        "lc2(P,Q,R)"
      ],
      "execution_count": null,
      "outputs": [
        {
          "output_type": "execute_result",
          "data": {
            "application/vnd.google.colaboratory.intrinsic+json": {
              "type": "string"
            },
            "text/plain": [
              "'São consequências lógica!'"
            ]
          },
          "metadata": {},
          "execution_count": 35
        }
      ]
    },
    {
      "cell_type": "markdown",
      "metadata": {
        "id": "UkkfCtiC8blh"
      },
      "source": [
        "![image.png](data:image/png;base64,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)"
      ]
    },
    {
      "cell_type": "markdown",
      "metadata": {
        "id": "agtYDgNihZ3k"
      },
      "source": [
        "![image.png](data:image/png;base64,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)"
      ]
    },
    {
      "cell_type": "code",
      "metadata": {
        "id": "EH12Fprs2kRi",
        "colab": {
          "base_uri": "https://localhost:8080/",
          "height": 52
        },
        "outputId": "45369fab-d661-4e62-a52d-cc8933317bcd"
      },
      "source": [
        "\n",
        "df = pqr()\n",
        "\n",
        "x = cd(p,q)\n",
        "xx = 'p > q'\n",
        "cl(x,xx)\n",
        "\n",
        "y = cd(p,r)\n",
        "yy = 'p > r'\n",
        "cl(y,yy)\n",
        "\n",
        "P = cj(x,y)\n",
        "PP = \"('p > q') ^ (p > r)\"\n",
        "cl(P,PP) \n",
        "\n",
        "w = cj(q,r)\n",
        "ww = 'q ^ r'\n",
        "cl(w,ww)\n",
        "\n",
        "Q = cd(p,w)\n",
        "QQ ='p > (q ^ r)'\n",
        "cl(Q,QQ)\n",
        "\n",
        "tb('2a')\n",
        "\n",
        "df = pqr2()\n",
        "\n",
        "cl(P,PP) \n",
        "cl(Q,QQ)\n",
        "\n",
        "tb('2a_2')\n",
        "\n",
        "le(P,Q)"
      ],
      "execution_count": null,
      "outputs": [
        {
          "output_type": "stream",
          "name": "stdout",
          "text": [
            "É uma tautologia!\n"
          ]
        },
        {
          "output_type": "execute_result",
          "data": {
            "application/vnd.google.colaboratory.intrinsic+json": {
              "type": "string"
            },
            "text/plain": [
              "'São equivalentes!'"
            ]
          },
          "metadata": {},
          "execution_count": 36
        }
      ]
    },
    {
      "cell_type": "markdown",
      "metadata": {
        "id": "TeaT04A6ArxD"
      },
      "source": [
        "![image.png](data:image/png;base64,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)"
      ]
    },
    {
      "cell_type": "code",
      "metadata": {
        "colab": {
          "base_uri": "https://localhost:8080/",
          "height": 52
        },
        "id": "T__QzM3tAoI9",
        "outputId": "fe45efb0-f61a-46fa-b2eb-a40be50a6166"
      },
      "source": [
        "df = pqr()\n",
        "\n",
        "x = cd(p,q)\n",
        "xx = 'p > q'\n",
        "cl(x,xx)\n",
        "\n",
        "y = cd(p,r)\n",
        "yy = 'p > r'\n",
        "cl(y,yy)\n",
        "\n",
        "P = dj(x,y)\n",
        "PP = '(p > q) V (p > r)'\n",
        "cl(P, PP)\n",
        "\n",
        "z = dj(q,r)\n",
        "zz = 'q v r'\n",
        "cl(z,zz)\n",
        "\n",
        "Q = cd(p,z)\n",
        "QQ = 'p > (q v r)'\n",
        "cl(Q,QQ)\n",
        "\n",
        "tb('2b')\n",
        "\n",
        "le(P,Q) \n",
        "\n"
      ],
      "execution_count": null,
      "outputs": [
        {
          "output_type": "stream",
          "name": "stdout",
          "text": [
            "É uma tautologia!\n"
          ]
        },
        {
          "output_type": "execute_result",
          "data": {
            "application/vnd.google.colaboratory.intrinsic+json": {
              "type": "string"
            },
            "text/plain": [
              "'São equivalentes!'"
            ]
          },
          "metadata": {},
          "execution_count": 39
        }
      ]
    },
    {
      "cell_type": "markdown",
      "metadata": {
        "id": "LfcjwfubhC8G"
      },
      "source": [
        "![image.png](data:image/png;base64,iVBORw0KGgoAAAANSUhEUgAAANsAAAAUCAIAAACLX992AAAKJUlEQVRoBe1aaUwTWxu+SmIiyKJRIzRBQSmLRBJADBcXIhFZNIIKGkUJVAFFUSEsRcQJBlyIuCCgIolVrIhAFUQQQkCERKRBEEowVIqmlUoAm6FNwc7kfMl3vsydbzqdlk3vD84P8s57nneZ8z5ztvIXmG/zI/BvGoG//k3JzOcyPwKAiZGjo6Pj4+OGDJJcLlepVIYgZx2jVqt//Pgx625n3SGO49++fZt1t1NyaHhBp+R2dsFMjERRND8/v729nSEkhmHPnj2rrq7GcZwBNnddOI6/evWKz+djGDZ3UWboeWRkJDc3t6+vb4Z+ZmhuSEFnGGLm5kyMBAAoFAoOh9PZ2akr0t27d/Pz83X1/jb99evXCwoKflu4KQVCUTQuLk4oFE7JCoJlMtmtW7fu37+Poug0zLVN9BZU2+Q3a/QwEgBQXV0dFBREOyLt7e0+Pj7fv3//zUlrhxsaGtqxY0dbW5t211xoUBStqKjg07Wenh5KxOzs7NOnT09vDbl3797ChQtNTU0bGxspbqf9yFDQafucRcP/Y6RMJsvJyUlJSXn58qVGo4Fh5HK5u7t7aWkpJSqO4xwO59ixY1Cv0Wjevn1bUFAgk8lu3ryJIEhvby/FRO+jSqUSCoUM6y+GYXV1dampqVlZWZX/bYTP2NjYyMhIBlsCSRakUml/fz9ZQ8hKpbKsrOzJkydv375NT08XiURE18jIyO3bt7PoWktLCwEDAHz9+tXFxUUgEEClQqEoLi6uqqrq7u6+cOFCXl7ez58/yXiyjGHY3r17TUxMFi1alJ6eTu4iywqFYpiuKRQK2lfQVVCyT1q5s7NTV7YMOUBXfX19WVlZXC73xYsXPB6PdoKDyH8Y2d7eHhQUJBKJhEIhi8XKzMyECAzDAgMDDx06RPnKJRKJra3tnTt3IKy5udnb29vBwSEqKiouLs7e3t7a2rqrqwv2GvhXo9GcOHEiLy+PEguaq9XqhISEjIwMFEXLysqWLVt24sQJwnNhYaGtra1EIiE0hggSicTf37+jo4MCnpycLC0ttbW1dXR0PHnyZFhYWENDAwVjyOPTp09ZLFZ3dzcAQKVSFRUVWVlZ7d69+/jx4xwOx9zcPCgoSKlU0rqSSCQ2NjYhISGenp5bt26lhWEYxuVyd2i17du379y5k8fjab+CroLS5kBWlpSUHD16VJuUDDn4+/ujKFpaWnrw4EGJRPL582cPDw8nJye5XE72TJb/x0iVShUQEHDv3j0AgFqtPnLkSFRUFIGLjo52dnYeGhoiNACA+vp6CwsL4usHACAIsm7dOjjlfPjwYeXKlTExMWQTQ+Senh4nJycEQdRqNQX/+PFjb29vhUIBAEBRdPPmzWRGVlZWLl269NWrVxQrvY/3799ns9k1NTUUJIZh/v7+QUFBxHJBAORyOZfLjaVrr1+/JmAAgHPnzrHZbJlMBpUoinp6eh4+fHhychIAcO3aNWNjY105l5eXGxsb8/l8Lpe7YsWKjx8/kj0zy2NjY2fOnPn58yftK9AWlNkh/KIOHDgQEBAwODioFwwAgDl0dna6urq2trZCk4yMDIMYKRKJ1q5dW1tbSxspMTGRxWKJxWJyL5/PNzExIZsgCOLu7j46OgoAmJyc9PPz8/b2JpsMDAz4+/t76GuWlpYLFiwICwsj28IlLCIiAirVarWPjw+ZkQ0NDWZmZg8fPiRblZeX64vm4ebmZmxsvHjxYh6PR7bFcTwwMJCSBhG9ra3tHV2jXPHs379/w4YNxP0UZGRycjL0IxKJVq5ceeXKFXJcQo6JibG2thaLxfX19aamplM6QUI2KBQK2lfQLqhGozl79qzesXJwcDAyMmKz2USSDALMoaCgwN7envgmc3JyDGKkUCi0tLQsKyujDZCammppaUm5vICMJE8tZEYCACIiIjZt2kTrkEEplUo9PDyOHj1KmZJRFN2yZQsxc2szsqmpyczMrLCwkME5bVdlZeXq1atzc3PhvEVgGBhJYPQKISEhDIyUyWR2dnZpaWnafoaHh11cXPbs2aPRaORyubOzM+1srW0INRiGicXiX79+0TKStqC6XBF6jUZz5swZV1fXd+/eEUoGAeaQkZHh4OBAVNNQRg4ODtrY2ERFRREbOGKaBQDExcWx2WypVEoOX1NTY25uXlFRQSgRBHFzcxsZGYGaffv27d+/n+g1UOByuSkpKRMTExQ8hmG7du3y8fGBq7k2I2tqaiwsLMrLyymGzI/Dw8N+fn606yYDIyUSya5du/6ma0VFReSIp0+fJg8dnCOTkpIgRiKRrFmz5tGjR2QTKDc2NpqZmeXl5cHHY8eOrV69+suXL9pIBo2uV6AtKIMf2FVfXx8QEEBZBPRaFRYWLl++nNhyGMpIjUbD4XBMTU1v3Lghk8kePXp09epVGAzH8eDgYD8/P8rGTiwWW1tbk28BEQRhs9lfv34FAEilUjc3t6nyY3x8/MWLF9p0hJnk5OSYmZnBtXVgYGD9+vXkVZvH41lZWX369EnvGJEBfX19zc3NZA0hw3KGhoYSmmkIPB6PxWIR53TIyPDwcOhKIBC4urrS1jg9PX3FihXETfDz589NTEy0bzyYU6J9BV0FZXYFAKirq4PF1YskAzo6OlatWhUZGalUKicmJqKiogxatQEAYrHYy8trwYIFRkZGwcHBxNZndHR048aNubm55DBwpxgSEhIbG0voEQSxsLCIjo7m8/lhYWEIglDWQQI5PWFsbCw0NHTRokVOTk7x8fFeXl5kRiYlJQUEBFA+m+kFAgBoNJqqqqq1a9eyWKzHjx9P+0U+f/7s6OhYXV0NM4GMtLe3v3z58oMHD3x9fevq6rSTVCqVW7du9fb2Js7X8NzN4XC0wbo0ul5BV0F1+ZmhHsfx27dvL1myhMViBQcHx8XFGcpISLL29vbe3l7yrV5ra+u2bduInSk5v6ampu3bt8OjDDxru7u79/f3t7S0TONjInvWJWMY1tPT09vbq1KpyCcbhULh6+tbWVmpy/AP6s+fP5+SkgITIFbt/v7+1tZWhmu5uUuYoaBzF1Qmk7W1tanVakNXbV2pYBiWmJhIvuIhI3Ecz8zMhHdGBCMJgpKRsy5T9pECgSA5OVn7mmbW407D4fDwcHh4ONxOQEYSZ+1peJuhCXNBZ+jcEPMZMRLDsJKSkufPnzNEUqvVt27dgseg5OTkDRs2MFx+MviZahc8esMNWVdXV3Z29h+ZbwxMe2Bg4PLly0NDQ6Ojo25ubqdOnTLQcHZhhhR0diNqe7t06ZKdnR3llEyG/fObDVkLZalUSrmD1MZATVdXV21tbVpaWnx8PJ/PN/B/2HR506ufmJgQCASJiYnnz59/8+ZNR0cHeZuh1/yPAJRK5fv374uLixMSEtLS0pqbm4lrjd+Wj+EFnaOUhELhxYsX4+Pji4uLdZGEiZFzlNa82/kRYBiBeUYyDM581x8Ygf8Ak9fEicnGslcAAAAASUVORK5CYII=)"
      ]
    },
    {
      "cell_type": "code",
      "metadata": {
        "id": "lmEJ3PjcDtIR",
        "colab": {
          "base_uri": "https://localhost:8080/",
          "height": 35
        },
        "outputId": "67c114d6-e90b-4222-d755-a06b8e362691"
      },
      "source": [
        "df = pqr()\n",
        "\n",
        "x = cd(p,q)\n",
        "xx='p > q'\n",
        "cl(x,xx)\n",
        "\n",
        "P = cd(x,r)\n",
        "PP = '(p > q) > r'\n",
        "cl(P,PP)\n",
        "\n",
        "cl(dn(r), '~r')\n",
        "cl(dn(q), '~q')\n",
        "\n",
        "z = cj(p,dn(r))\n",
        "zz='p ^ ~r'\n",
        "cl(z, zz)\n",
        "\n",
        "w = cd(z,dn(q))\n",
        "ww = '(p ^ ~r) > ~q'\n",
        "cl(w,ww)\n",
        "Q = w\n",
        "\n",
        "tb('2c')\n",
        "\n",
        "df = pqr2()\n",
        "\n",
        "cl(P, PP)\n",
        "cl(Q, QQ)\n",
        "\n",
        "tb('2c_2')\n",
        "\n",
        "le(P,Q)"
      ],
      "execution_count": null,
      "outputs": [
        {
          "output_type": "execute_result",
          "data": {
            "application/vnd.google.colaboratory.intrinsic+json": {
              "type": "string"
            },
            "text/plain": [
              "'Não são equivalentes!'"
            ]
          },
          "metadata": {},
          "execution_count": 40
        }
      ]
    },
    {
      "cell_type": "markdown",
      "metadata": {
        "id": "przeeYQx64rn"
      },
      "source": [
        "![image.png](data:image/png;base64,iVBORw0KGgoAAAANSUhEUgAAAUkAAAATCAIAAACSimjaAAAPb0lEQVR4Ae1beUxU1/4nmoh12HcYtkpFoAoEEKM1SqFEwDZlWsY2QhdFAbGslRaqAQKWiiUEBKEoaKEUcUNAWSIVtDIgSwQKsoSRETLIQBiYwJCBzJ2cX/KOOe++c+8MIzPPvPzC/et7v+fz/Z7ves+5585ogPVrPQLrEfj/GAENWqcIgmhvb+fz+UKhcHFxkRZDZspksomJCTJHIBAsLS2ROf9VWkk71WgD1WU1KqdVxefzZTIZGnqbLmPZXFxcnJ2dRZb8zxJYxNRlJxYNdalVUg/mlIIyoOntycnJ7777jsFg1NTULCwsFBQUdHV1KZh4dnY2Ly9veHgYYgiCuHHjRl1dHbkQFYirZUgZO9UyEVSCuaxGzQpUjYyMZGdno6Z6Oy5Ts9nd3X358mWRSKTA1P+RISxiqltFjYbqOt9UA+aUgjKg6W0AQEdHh4WFRU1NDQBAJBKFhob29vbSGrGwsBAdHd3d3Y1Gf/vtt4KCAnSrDPHy5cucnJyBgQEEHhsbwzhoSB6h2E4kNTk5mZube/ny5YWFBcR8I4Lq8huJqwJub28PDw9HOyklXVZlRiybvb29kZGRaw6dPEtUT4o8zVjEMFhLS0thYeH8/DziP3z4EOOgIQAAFg3ykPK0RCIpLS29e/cuEllaWrp27RqZg4ZoCcwpeWVA39s9PT1MJhP2NgCgrq4uMDCQNqO//vprVFQUWqK7urp8fHxevXpFa5M8JpfLtbW1PXnyJAJkZmbq6+u3tbUhjjKEAjuReFFR0YYNG7S1tVtaWhDzjQjM5TeSVREsk8ni4uLOnz+P9NC6vLCwUFVVVUF3kR+gSIk8AsvmwsICi8Wqra2Vh18zX/WkyJuaGjEysqysTFtb+/79+5ApFou9vLz27dtHW+pYNMh63ogmCOLw4cPvv/++QCCAgl1dXQYGBmlpaUrqoTpFWwb/0dvT09O5ublJSUn5+fnk3hYIBB4eHjdv3sTmHh8fd3FxQc8bmUwWGhp6/PhxCJNKpY8fPy4sLJycnMzJyUlNTR0cHMQ0IGRgYKCrq+vMzAwAQCKR+Pr6enp6zs3N0eLn5+eLi4sTEhKKi4srKiqeP38OYfLsREoIgvjss88YDMamTZuSk5MRn0wQBCEUCmforqWlJarLHR0dubm5/f396enpVVVVZFWr0r29veRFg4yXyWRNTU1nz57NzMwsLS0Vi8VwtL6+3tXVdXx8HN7Sujw7O3vx4sUMuqu1tZU8i0gkonN0RiQSYdkEANy+fdvV1XVychIAoDhKXC43Ly9vcHCwuro6MTHx/v376OlPnh3SqicF6hkeHs7IyEhKSqquri4tLUX9iUWMbMDQ0BCTyYyNjYXM3t5eExOTM2fOkDGQxqKxvLxMGzehUCiVSicmJvLz858+fVpSUpKdnU3VVlxcrK2t/eDBAziUk5Ojq6v7+PFjKlKVMvh3b4+Ojn700Ue1tbUCgYDNZmtqaqJ1myCIQ4cOHTlyBMvQ9evXmUxmf38/tInH423dujU/Px/e/v33315eXg4ODmFhYdHR0du3b7e2tu7r66M6AAC4dOmSrq7uw4cPAQADAwPm5uanT5+mRXK5XBaLVV9fLxKJYmNjGQwGeu7KsxPp4fF47777LpvN3rNnz/79+1HDIAAAgMfjsdlsX8rl6el57tw5zOVnz5598sknBgYGISEhoaGhmZmZZFWr0pWVlV9//TVte1dVVcXFxUkkkvr6+oCAAKFQCLUNDw9bWlpev34d3q7qsgIbCIJISkqiOOrr7e3t7+/f399PzqZMJjty5MjBgwdXVlYUR+n777+PjY3V19cPDQ09efKkn5/f5s2bUVVQ7VE9KQCAmzdvfvnllzweb2RkxNPT08nJCa2KWMTIBiwvLwcEBLi7u8NTjIKCAh0dnb/++ouMgTRW2zU1NdS4+fr6uru737t3Lzk5WUtLy8/PLzIyMjw8nKptYGDAzMzshx9+AACsrKwEBAS4ubmhkxQyXpUyeN3bBEFERkZGRETA7m1ubjYyMkK9DQAIDw/fsWPH1NQUeeK4uDh7e3v4IAcANDU16enpoWUcAJCamvree++Njo4CADo7O01MTCIiIsgaEN3T02NsbAzX0uLiYi0trbq6OjSKiJWVleDg4JSUFMhpa2uzsLBAvS3PTiR+586dLVu2VFRUJCUlGRsb9/T0oKFViZaWluzsbMxlAEBRUZGlpeXQ0NCqGqiApaWlL774IiAg4OXLl9hoQkJCSEjIysqKTCYrKSlBW5ipqSlHR8fIyEiEp6ZGIBAkJSWdorvq6+uRoDxibm4uJiampqaGnM2ZmRlXV9djx47Jk4J8GCUOh2NqalpWVgYAWFxc9PHxcXJykieoelK4XK6bmxuHw4FTpKWlkXubGjGyJdnZ2Xp6ek+ePJFKpYGBgTt37kQPBTKMWtvkUURnZmZyOJzBwUEmk3nlyhXExwiJROLj47N7926RSDQ8PMxkMk+dOoVh4K0qZfC6t8fHx7du3VpYWAg1Yu/bAICEhAQmk8nlcskWBAUFOTs7T09PQ2ZFRQWDwWhsbESY1NRUDw8PuOasrKz4+fl5eXmhUTKxuLh44MCBffv2zc/Ps9lsBwcH9Mggw0ZHR+3s7NDWt6enx8rKitzbtHYiDREREdbW1lwut6mpSVtb+43O/GDVYi4DAIqLi+3s7NAmGc0llUpjY2M9V7scHBw2btxob2+PBCEBW8vb27u5uZm8XRIKhW5uboGBgQhPdVkikXR0dDyhu7BPlUgJmYC9XVJSQs4mj8eztraOjo4mI6k06m0rK6vm5mYIKCgoMDQ0pIIhR/Wk/P7779u3b0cFk52dTe5tasTIlnR0dBgYGKSnp3O5XBsbG/RGScYAAKi1jQHgLezt4eFhKysr6jssWSQjI0NPT6+9vb2srGzLli3V1dXkUUSrUgave7urq8vQ0PDSpUtQKbW3f/rpJ3Nzc/ShC8LYbDa1txsaGpBl5N4GABw9enT37t1oFCOSk5ONjIzu3r1rZ2f31VdfkQsaIdvb283NzdFxDrW3ae2E4jMzMy4uLp9++qlUKhUIBDt27AgMDJRKpUi5YmJ+fp7P52MuK+htxdrgqFQqjYmJcXNze/LkCRXf2trq7e2tqakZFhaGzsbn5uZ27dp16NAhFB8FLlN1KsMhCILL5ZaXlzMYDJRN2NtRUVGKNcAocTgccm9XVVUZGRnRCqolKefOnXNwcECbSqy3qREjWyISifbs2fPhhx9evXqVwWDcuHGDPIpo2NsoGoiPERMTE3ApXrW3W1tb9fT0zp8/HxwcTLs2IM1rLoPXvT0yMsJkMk+cOAErhtrb0dHR9vb2fD4fTQkAiIqKIjMbGhp0dXXRogr35OhlBgDw+eefBwUFkTWQ6ZaWFh0dHX9/fwaD8ccff5CHED00NGRhYYHOJ6i9TWsnFIf60fPr+PHjNjY2L168QMqVITCXVeztpqamgIAA2rVUIBAQ/7oKCwv19fVv3boFzZuennZ2dv7222+RtVSXeTzexx9/vJfuKikpQYKKCSybcN6jR48qloKjHA7H0tISnp4AAMrLy21tbWkF1ZKUK1euGBkZoTcsrLepEcMsSUxMNDY2/uCDD2xtbeXVAxYNTAN2q8y6PTc35+7u7urqamtre/jwYYIgMCXwVpUyeN3bEomExWIZGRnB97Ha2loDA4M7d+7ACWQyGYvF8vPzk0gkZAtKS0uZTCY6puZyudbW1mhjD3vb3t4e7lf5fL67uzvSSdYD6enpaVdXVw0NDUtLS2yDgMBisfjgwYOOjo7wyL2ystLQ0BDtyeXZCcWTk5ONjY3Rh/pbt24xGAzFGyc0LyIwl2Fv29jY8Hg8hFGeePDgAXUzD8WzsrJgsQqFwr1796L15MWLF1ZWVnl5eRCm2GXlLaEisWwSBBEUFOTv7w/P0qh4MofD4ZiYmMDnEUEQYWFhJ06cIAMQrZakPHv2zMzM7NixY2KxeHl5OSwsjLwnxyKGpkZEY2Mjg8HQ0NBgsVjy9nFYNJAsLQFfof/880/aUcSMiYnR0NDYuHGjggeuKmXwurcBAM+fP/fw8NDU1Ny5c2dwcLC+vj6bzYY9JhQKd+3aheoJGTcyMuLo6IgOvVZWVthsNvlUIDU1VU9PLzw8vKKiIiQkJDU1VXFlREREaGhoBAQELC8vo1kworOz097eXkdHZ+/evSkpKZaWlqi35dkJABCLxfv37/fy8kJn4/B4NjQ0FNOv+BZzeXBwkMVibdq06fTp02hPqFiDkqPx8fEuLi5FRUUZGRmhoaHoLK25uXnbtm3//PMP1KPAZSUnkgejZvPatWtubm60R02YEg6HY2Rk5Ovre/Xq1eTk5KCgIGzHB/HqSopMJrt48aKWlhaTyWSxWNHR0eTexiKGmQoAePXqlZOT04YNG9CejoqhRoOKgRyhUHju3Ll33nnHx8ens7NTHgwAcO/evc2bN5uZmSn40YEqZfDv3obH8T09PaOjowsLC4ODg+iNjsPhHDhwAJ1VkM09c+ZMYmIi4jx69Mjb2xt9sIHv26Ojo62trfIWKCSrPCEWizs6OgQCAbYnV2Cn8spXRWIur4pfG2BycpLP5z99+nRgYIC8YUtLSzt16pQyqVnbvGQpLJtCodDX1xedkJGRGA3ftxsaGrq7u/v6+sj2Y0g13k5OTnZ0dEgkEmxPjkVszTNi0ViznjcSVKUM/qO3aWclCCIhIYH8ZYsMm5mZ+eabb9AyIpPJfv7556KiIojBztLIgmqhyb2t2E61TAeVYC6rUfOqqiYmJkJCQtD7+X/bZSybAIBHjx6FhYWt+i8g7CxtVb/UCyD3NhYxVSaiRkMVbarIYk7JK4NVepsgiMrKSnSQQ2vQ2NjYL7/8gnakEokkNzcXfmz88ccfnZ2dldnF0Wpeldne3m5qanr79m1l7FxVm/IAzGXlBVVBzs3NXbhwAZ1uvB2XydmExtfX15eUlMh7L4WY5uZmU1NTZb6lqxIQebLp6enbtm3j8/lYxOThledTo6G8rLqQmFMKymCV3ubz+dg3bVoTxWIxWrohoK+vr7Gx8ezZs/Hx8RUVFegTDq342phTU1P5+fmxsbEXLlxoa2tTxs61TUQrRXWZFqZGZl9fH/kXbEqmRi0G9Pf3o3MKAMDEvy55msfGxrKysmJiYrKystZ2xChPszL87u7ulJSU+Pj48vLy9vZ2csSUEVcGg0VDGRE1YpQvg1V6W402rataj8B6BN5mBNZ7+21Ge32u9Qi8vQj8HyP5NUgYhqRSAAAAAElFTkSuQmCC)"
      ]
    },
    {
      "cell_type": "code",
      "metadata": {
        "colab": {
          "base_uri": "https://localhost:8080/",
          "height": 35
        },
        "id": "FkxRXa9D6z8U",
        "outputId": "d031c7ff-7ab7-4828-a3c7-11e7ca7e494b"
      },
      "source": [
        "df = pqrs()\n",
        "\n",
        "x = dj(p,q)\n",
        "xx = 'p v q'\n",
        "cl(x,xx)\n",
        "\n",
        "y = cd(r,s)\n",
        "yy = 'r > s'\n",
        "cl(y,yy)\n",
        "\n",
        "y = dn(y)\n",
        "yy = '~(r > s)'\n",
        "cl(y,yy)\n",
        "\n",
        "P = cj(x, y)\n",
        "PP = '((p v q) ^ ~(r > s))'\n",
        "cl(P,PP)\n",
        "\n",
        "cl(dn(p), '~p')\n",
        "cl(dn(q), '~q')\n",
        "cl(dn(r), '~r')\n",
        "\n",
        "z=cd(dn(p), dn(q))\n",
        "zz = '~p ^ ~q'\n",
        "cl(z,zz)\n",
        "\n",
        "w=dj(dn(r), s)\n",
        "ww = '~r v s'\n",
        "cl(w,ww)\n",
        "\n",
        "j=dj(z,w)\n",
        "jj = '((~p ^ ~q) v (~r v s))'\n",
        "cl(j, jj)\n",
        "\n",
        "Q = dn(j)\n",
        "QQ = '~((~p ^ ~q) v (~r v s))'\n",
        "cl(Q, QQ)\n",
        "\n",
        "\n",
        "tb('2d')\n",
        "\n",
        "df = pqr2()\n",
        "\n",
        "cl(P, PP)\n",
        "cl(Q, QQ)\n",
        "\n",
        "tb('2d_2')\n",
        "\n",
        "le(P, Q)"
      ],
      "execution_count": null,
      "outputs": [
        {
          "output_type": "execute_result",
          "data": {
            "application/vnd.google.colaboratory.intrinsic+json": {
              "type": "string"
            },
            "text/plain": [
              "'Não são equivalentes!'"
            ]
          },
          "metadata": {},
          "execution_count": 41
        }
      ]
    },
    {
      "cell_type": "code",
      "metadata": {
        "id": "wux74FBh9w_-"
      },
      "source": [
        "df = pqr()\n",
        "\n",
        "x = \n",
        "xx =\n",
        "cl(x, xx )\n",
        "\n",
        "y=\n",
        "yy= \n",
        "cl(y,yy)\n",
        "\n",
        "z =\n",
        "zz= \n",
        "cl(z,zz)\n",
        "\n",
        "w =\n",
        "ww= \n",
        "cl(w,ww)\n",
        "\n",
        "\n",
        "j =\n",
        "jj = \n",
        "cl(j,jj)\n",
        "\n",
        "\n",
        "P=\n",
        "PP = \n",
        "cl(P, PP)\n",
        "\n",
        "Q = \n",
        "QQ = \n",
        "cl(Q, QQ)\n",
        "\n",
        "R =\n",
        "RR = \n",
        "cl(R, RR)\n",
        "\n",
        "tb('')\n",
        "\n",
        "df =pqr2()\n",
        "\n",
        "cl(P, PP)\n",
        "cl(Q, QQ)\n",
        "cl(R, RR)\n",
        "\n",
        "tb('')\n",
        "\n",
        "lc2(P,Q,R)"
      ],
      "execution_count": null,
      "outputs": []
    },
    {
      "cell_type": "markdown",
      "metadata": {
        "id": "l_Gfd12-9yVG"
      },
      "source": [
        "df = pqr()\n",
        "\n",
        "x = \n",
        "xx =\n",
        "cl(x, xx )\n",
        "\n",
        "y=\n",
        "yy= \n",
        "cl(y,yy)\n",
        "\n",
        "z =\n",
        "zz= \n",
        "cl(z,zz)\n",
        "\n",
        "w =\n",
        "ww= \n",
        "cl(w,ww)\n",
        "\n",
        "\n",
        "j =\n",
        "jj = \n",
        "cl(j,jj)\n",
        "\n",
        "\n",
        "P=\n",
        "PP = \n",
        "cl(P, PP)\n",
        "\n",
        "Q = \n",
        "QQ = \n",
        "cl(Q, QQ)\n",
        "\n",
        "R =\n",
        "RR = \n",
        "cl(R, RR)\n",
        "\n",
        "tb('')\n",
        "\n",
        "df =pqr2()\n",
        "\n",
        "cl(P, PP)\n",
        "cl(Q, QQ)\n",
        "cl(R, RR)\n",
        "\n",
        "tb('')\n",
        "\n",
        "lc2(P,Q,R)"
      ]
    },
    {
      "cell_type": "code",
      "metadata": {
        "id": "emCplai_vRaq"
      },
      "source": [
        "\n",
        "df = pqr()\n",
        "\n",
        "'p ∨ (¬p ∧ q ∧ ¬r)'\n",
        "x = dn(p)\n",
        "xx ='~p'\n",
        "cl(x, xx )\n",
        "\n",
        "y=cj(x,q)\n",
        "yy= '¬p ∧ q'\n",
        "cl(y,yy)\n",
        "\n",
        "z =dn(r)\n",
        "zz= '~r'\n",
        "cl(z,zz)\n",
        "\n",
        "w =cj(y,z)\n",
        "ww= '¬p ∧ q ∧ ~r'\n",
        "cl(w,ww)\n",
        "\n",
        "\n",
        "j =dj(p,w)\n",
        "jj = 'p ∨ (¬p ∧ q ∧ ¬r)'\n",
        "cl(j,jj)\n",
        "\n",
        "\n",
        "tb('9')\n"
      ],
      "execution_count": null,
      "outputs": []
    }
  ]
}